{
 "cells": [
  {
   "cell_type": "markdown",
   "id": "809aa09a-82df-4665-b913-5fdfb0d554fc",
   "metadata": {},
   "source": [
    "<center><h1>Testing Notebook</h1></center>\n"
   ]
  },
  {
   "cell_type": "markdown",
   "id": "9f03f895-8a30-4cf0-8690-9aaf27da036c",
   "metadata": {},
   "source": [
    "## Loading Entities:\n",
    "\n",
    " - Power System\n",
    " - Ant Colony"
   ]
  },
  {
   "cell_type": "code",
   "execution_count": 1,
   "id": "92ca0b5b-c822-4d91-911e-d32957d9e4ac",
   "metadata": {},
   "outputs": [],
   "source": [
    "from acopoweropt import system, colony\n",
    "\n",
    "PSystem = system.PowerSystem(name='s10')\n",
    "Colony = colony.Colony(n_ants=5,phr_evp_rate=0.25)"
   ]
  },
  {
   "cell_type": "code",
   "execution_count": 2,
   "id": "2480602c-c730-43e3-9b5d-b04e03583cfd",
   "metadata": {},
   "outputs": [
    {
     "name": "stdout",
     "output_type": "stream",
     "text": [
      "Help on module acopoweropt.system in acopoweropt:\n",
      "\n",
      "NAME\n",
      "    acopoweropt.system - Singleton classes to load a Power System configuration\n",
      "\n",
      "CLASSES\n",
      "    builtins.object\n",
      "        PowerSystem\n",
      "    \n",
      "    class PowerSystem(builtins.object)\n",
      "     |  PowerSystem(name: str)\n",
      "     |  \n",
      "     |  Singleton Class to load a power system data.\n",
      "     |  \n",
      "     |  Parameters\n",
      "     |  ----------\n",
      "     |  name : str\n",
      "     |      Name of the Power System chosen. This should be exactly as used in\n",
      "     |      systems.json file\n",
      "     |  \n",
      "     |  Attributes\n",
      "     |  ----------\n",
      "     |  name : str\n",
      "     |      Name of the Power System chosen. This should be exactly as used in\n",
      "     |      systems.json file\n",
      "     |  data : pandas.DataFrame\n",
      "     |      A pandas DataFrame containing all the provided data regarding each\n",
      "     |      TGU\n",
      "     |  load : float\n",
      "     |      The power load being requested to the system.\n",
      "     |  tgus : list\n",
      "     |      A list of Termal Generation Units as presented in system.json file.\n",
      "     |  opzs : pandas.DataFrame\n",
      "     |      A pandas DataFrame containing the the operative zone options of each\n",
      "     |      TGU.\n",
      "     |  \n",
      "     |  Methods defined here:\n",
      "     |  \n",
      "     |  __init__(self, name: str)\n",
      "     |      Initialize self.  See help(type(self)) for accurate signature.\n",
      "     |  \n",
      "     |  rand_opt_zones(self)\n",
      "     |      Returns a random combination of possible operative zones of each TGU.\n",
      "     |      \n",
      "     |      Parameters\n",
      "     |      ----------\n",
      "     |      \n",
      "     |      Returns\n",
      "     |      -------\n",
      "     |      list\n",
      "     |          List representing which operative zone was randomized for each TGU.\n",
      "     |  \n",
      "     |  ----------------------------------------------------------------------\n",
      "     |  Data descriptors defined here:\n",
      "     |  \n",
      "     |  __dict__\n",
      "     |      dictionary for instance variables (if defined)\n",
      "     |  \n",
      "     |  __weakref__\n",
      "     |      list of weak references to the object (if defined)\n",
      "\n",
      "FILE\n",
      "    /home/ettore/repos/academic/msc/courses/msc-210115/acopoweropt/acopoweropt/system.py\n",
      "\n",
      "\n"
     ]
    }
   ],
   "source": [
    "help(system)"
   ]
  },
  {
   "cell_type": "code",
   "execution_count": 93,
   "id": "4804ecb9-38ec-4abc-a1c2-7b0d42f0df48",
   "metadata": {},
   "outputs": [],
   "source": [
    "import pandas as pd\n",
    "import random\n",
    "\n",
    "\n",
    "df = pd.DataFrame([(\n",
    "    ant,\n",
    "    *[random.randint(1,j) for i,j in PSystem.opzs.itertuples()]\n",
    "    ) for ant in range(1, Colony.n_ants + 1)\n",
    "]).rename(columns = {0: 'ant'}, inplace = False).set_index('ant')"
   ]
  }
 ],
 "metadata": {
  "kernelspec": {
   "display_name": "Python 3",
   "language": "python",
   "name": "python3"
  },
  "language_info": {
   "codemirror_mode": {
    "name": "ipython",
    "version": 3
   },
   "file_extension": ".py",
   "mimetype": "text/x-python",
   "name": "python",
   "nbconvert_exporter": "python",
   "pygments_lexer": "ipython3",
   "version": "3.8.6"
  }
 },
 "nbformat": 4,
 "nbformat_minor": 5
}

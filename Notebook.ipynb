{
 "cells": [
  {
   "cell_type": "code",
   "execution_count": 1,
   "id": "53d880dd-3e40-4e63-8cf7-049a52cdb3f3",
   "metadata": {},
   "outputs": [],
   "source": [
    "from acopoweropt import system\n",
    "\n",
    "PSystem = system.PowerSystem('s15')"
   ]
  },
  {
   "cell_type": "code",
   "execution_count": 2,
   "id": "b226f156-d94e-4c16-b396-0111062b36b2",
   "metadata": {},
   "outputs": [
    {
     "data": {
      "text/plain": [
       "[1, 4, 1, 1, 4, 4, 1, 1, 1, 1, 1, 3, 1, 1, 1]"
      ]
     },
     "execution_count": 2,
     "metadata": {},
     "output_type": "execute_result"
    }
   ],
   "source": [
    "PSystem.opzs.total.to_list()"
   ]
  },
  {
   "cell_type": "code",
   "execution_count": null,
   "id": "bab7d148-de91-4fc8-a584-2243fbb89f19",
   "metadata": {},
   "outputs": [],
   "source": []
  }
 ],
 "metadata": {
  "kernelspec": {
   "display_name": "Python 3",
   "language": "python",
   "name": "python3"
  },
  "language_info": {
   "codemirror_mode": {
    "name": "ipython",
    "version": 3
   },
   "file_extension": ".py",
   "mimetype": "text/x-python",
   "name": "python",
   "nbconvert_exporter": "python",
   "pygments_lexer": "ipython3",
   "version": "3.8.6"
  }
 },
 "nbformat": 4,
 "nbformat_minor": 5
}

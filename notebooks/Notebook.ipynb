{
 "cells": [
  {
   "cell_type": "markdown",
   "id": "809aa09a-82df-4665-b913-5fdfb0d554fc",
   "metadata": {},
   "source": [
    "<center><h1>Testing Notebook</h1></center>\n"
   ]
  },
  {
   "cell_type": "markdown",
   "id": "9f03f895-8a30-4cf0-8690-9aaf27da036c",
   "metadata": {},
   "source": [
    "## Loading Entities:\n",
    "\n",
    " - Power System\n",
    " - Ant Colony"
   ]
  },
  {
   "cell_type": "markdown",
   "id": "5d0bb8b5-8234-4c3f-a779-bb7b390f333b",
   "metadata": {},
   "source": [
    "## Testing Power System"
   ]
  },
  {
   "cell_type": "code",
   "execution_count": null,
   "id": "5bbfbd60-bdc8-4dbb-a647-ae18b95f9e3b",
   "metadata": {},
   "outputs": [],
   "source": [
    "from acopoweropt import system\n",
    "# Initialize\n",
    "PSystem = system.PowerSystem(name='s15')\n",
    "\n",
    "# Randomly select an operation\n",
    "operation = PSystem.sample_operation()\n",
    "\n",
    "# Solve system\n",
    "solution = PSystem.solve(operation=operation)"
   ]
  },
  {
   "cell_type": "markdown",
   "id": "f922f0e9-54e3-472d-9871-55fe07ada350",
   "metadata": {},
   "source": [
    "## Testing Colony"
   ]
  },
  {
   "cell_type": "code",
   "execution_count": null,
   "id": "6c42fd22-8c80-4242-8f11-ac5f07843d46",
   "metadata": {
    "scrolled": true,
    "tags": []
   },
   "outputs": [],
   "source": [
    "# main.py\n",
    "from acopoweropt import colony, system\n",
    "\n",
    "\n",
    "# Um sistema de de usinas termicas pode ser instanciado via system.PowerSystem:\n",
    "PSystem = system.PowerSystem(name='s15')\n",
    "\n",
    "# Em seguida, a colonia pode ser initializada passando como parametro o sistema instanciado\n",
    "# que servira de 'ambiente' para a busca de alimento pelas formigas\n",
    "Colony = colony.PowerColony(n_ants=100,\n",
    "                            pheromone_evp_rate={'worst': 0.75, 'mean': 0.25, 'best': 0.05},\n",
    "                            power_system=PSystem)\n",
    "\n",
    "# A busca por alimento pode ser realizada atraves do metodo 'seek':\n",
    "# OBS: a variavel opcional 'show_progress' permite observar as iteracoes.\n",
    "\n",
    "Colony.seek(max_iter=200, power_system=PSystem, show_progress=True)\n",
    "\n",
    "# Apos a obtencao de resultados eh possivel avaliar o comportamento da solucao\n",
    "# de forma visual\n",
    "ax = Colony.paths.groupby('iteration').distance.min().plot(y='distance')\n",
    "\n",
    "# Uma animacao pode ser produzida para observar o comportamento do feromonio\n",
    "# uma pasta eh criada para conter a evolucao do feromonio em cada iteracao\n",
    "# e um gif eh produzido na raiz do projeto.\n",
    "Colony.create_pheromone_movie(duration=0.25)"
   ]
  }
 ],
 "metadata": {
  "kernelspec": {
   "display_name": "Python 3",
   "language": "python",
   "name": "python3"
  },
  "language_info": {
   "codemirror_mode": {
    "name": "ipython",
    "version": 3
   },
   "file_extension": ".py",
   "mimetype": "text/x-python",
   "name": "python",
   "nbconvert_exporter": "python",
   "pygments_lexer": "ipython3",
   "version": "3.8.6"
  }
 },
 "nbformat": 4,
 "nbformat_minor": 5
}

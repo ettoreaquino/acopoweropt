{
 "cells": [
  {
   "cell_type": "markdown",
   "id": "809aa09a-82df-4665-b913-5fdfb0d554fc",
   "metadata": {},
   "source": [
    "<center><h1>Testing Notebook</h1></center>\n"
   ]
  },
  {
   "cell_type": "markdown",
   "id": "9f03f895-8a30-4cf0-8690-9aaf27da036c",
   "metadata": {},
   "source": [
    "## Loading Entities:\n",
    "\n",
    " - Power System\n",
    " - Ant Colony"
   ]
  },
  {
   "cell_type": "code",
   "execution_count": 1,
   "id": "92ca0b5b-c822-4d91-911e-d32957d9e4ac",
   "metadata": {},
   "outputs": [],
   "source": [
    "from acopoweropt import system, colony\n",
    "\n",
    "PSystem = system.PowerSystem(name='s10')\n",
    "Colony = colony.Colony(n_ants=5,phr_evp_rate=0.25)"
   ]
  },
  {
   "cell_type": "markdown",
   "id": "5d0bb8b5-8234-4c3f-a779-bb7b390f333b",
   "metadata": {},
   "source": [
    "## Testing Power System"
   ]
  },
  {
   "cell_type": "code",
   "execution_count": 2,
   "id": "5bbfbd60-bdc8-4dbb-a647-ae18b95f9e3b",
   "metadata": {},
   "outputs": [],
   "source": [
    "# Randomly select an operation\n",
    "operation = PSystem.sample_operation()\n",
    "\n",
    "# Solve system\n",
    "solution = PSystem.solve(operation=operation)"
   ]
  },
  {
   "cell_type": "code",
   "execution_count": null,
   "id": "2df2db4b-01ea-4404-aebe-b932097d7a3f",
   "metadata": {},
   "outputs": [],
   "source": [
    "solution.get('Ft')"
   ]
  },
  {
   "cell_type": "markdown",
   "id": "f922f0e9-54e3-472d-9871-55fe07ada350",
   "metadata": {},
   "source": [
    "## Testing Colony"
   ]
  },
  {
   "cell_type": "code",
   "execution_count": 1,
   "id": "4804ecb9-38ec-4abc-a1c2-7b0d42f0df48",
   "metadata": {},
   "outputs": [
    {
     "name": "stdout",
     "output_type": "stream",
     "text": [
      "Colony initialized with Power System s10\n"
     ]
    }
   ],
   "source": [
    "from acopoweropt import colony\n",
    "\n",
    "AntColony = colony.Colony(n_ants=5, phr_evp_rate=0.25)\n",
    "AntColony.initialize(power_system_name='s10')\n",
    "\n",
    "ants = AntColony.initial_paths"
   ]
  },
  {
   "cell_type": "code",
   "execution_count": 2,
   "id": "cb88c218-cbad-4f9b-b89f-e1fdabd11724",
   "metadata": {},
   "outputs": [],
   "source": [
    "import pandas as pd\n",
    "\n",
    "# 0 - Initialize pheromone matrix\n",
    "phr_df = ants[['path', 'tau']].reset_index(drop=True).groupby(['path']).sum()\n",
    "phr_df['prob'] = phr_df.tau * 100 / ants.tau.sum()"
   ]
  },
  {
   "cell_type": "code",
   "execution_count": 3,
   "id": "c417125e-a595-4dfe-adcb-d4043a8d5153",
   "metadata": {},
   "outputs": [],
   "source": [
    "# 1 - Sample 80% to follow paths leaving 20% of the ants to select new paths\n",
    "\n",
    "follow_paths = ants.sample(frac=0.8, replace=False, random_state=1)\n",
    "new_paths = ants.drop(follow_paths.index)\n",
    "\n"
   ]
  },
  {
   "cell_type": "code",
   "execution_count": 13,
   "id": "22325f7b-8d12-4300-9d51-c896bfffccf0",
   "metadata": {},
   "outputs": [
    {
     "data": {
      "text/html": [
       "<div>\n",
       "<style scoped>\n",
       "    .dataframe tbody tr th:only-of-type {\n",
       "        vertical-align: middle;\n",
       "    }\n",
       "\n",
       "    .dataframe tbody tr th {\n",
       "        vertical-align: top;\n",
       "    }\n",
       "\n",
       "    .dataframe thead th {\n",
       "        text-align: right;\n",
       "    }\n",
       "</style>\n",
       "<table border=\"1\" class=\"dataframe\">\n",
       "  <thead>\n",
       "    <tr style=\"text-align: right;\">\n",
       "      <th></th>\n",
       "      <th>path</th>\n",
       "      <th>status</th>\n",
       "      <th>distance</th>\n",
       "      <th>tau</th>\n",
       "    </tr>\n",
       "    <tr>\n",
       "      <th>ant</th>\n",
       "      <th></th>\n",
       "      <th></th>\n",
       "      <th></th>\n",
       "      <th></th>\n",
       "    </tr>\n",
       "  </thead>\n",
       "  <tbody>\n",
       "    <tr>\n",
       "      <th>4</th>\n",
       "      <td>1,1,1,1,3,2,2,3,3,3</td>\n",
       "      <td>optimal</td>\n",
       "      <td>745.923751</td>\n",
       "      <td>0.001341</td>\n",
       "    </tr>\n",
       "  </tbody>\n",
       "</table>\n",
       "</div>"
      ],
      "text/plain": [
       "                    path   status    distance       tau\n",
       "ant                                                    \n",
       "4    1,1,1,1,3,2,2,3,3,3  optimal  745.923751  0.001341"
      ]
     },
     "execution_count": 13,
     "metadata": {},
     "output_type": "execute_result"
    }
   ],
   "source": [
    "new_paths"
   ]
  },
  {
   "cell_type": "code",
   "execution_count": 11,
   "id": "c7600410-c72a-499d-8ef2-9ffce8c3273c",
   "metadata": {},
   "outputs": [
    {
     "name": "stdout",
     "output_type": "stream",
     "text": [
      "4\n"
     ]
    }
   ],
   "source": [
    "from acopoweropt import system\n",
    "\n",
    "PSystem = system.PowerSystem(name='s10')\n",
    "\n",
    "def sample_new\n",
    "l = []\n",
    "for ant in new_paths:\n",
    "    print(ant)\n",
    "    option = PSystem.sample_operation()\n",
    "    result = PSystem.solve(operation=option)\n",
    "    distance = result.get(\"Ft\")\n",
    "    status = result.get(\"status\")\n",
    "\n",
    "    l.append(\n",
    "        {\n",
    "            \"ant\": ant,\n",
    "            \"path\": \",\".join([str(int) for int in option.opz.to_list()]),\n",
    "            \"status\": status,\n",
    "            \"distance\": distance,\n",
    "            \"tau\": 1 / distance,\n",
    "\n",
    "        }\n",
    "    )\n",
    "df = pd.DataFrame(l).set_index(\"ant\")"
   ]
  },
  {
   "cell_type": "code",
   "execution_count": 12,
   "id": "627d9d7b-f6f2-4f36-b3d1-d15ef2e674f6",
   "metadata": {},
   "outputs": [
    {
     "data": {
      "text/html": [
       "<div>\n",
       "<style scoped>\n",
       "    .dataframe tbody tr th:only-of-type {\n",
       "        vertical-align: middle;\n",
       "    }\n",
       "\n",
       "    .dataframe tbody tr th {\n",
       "        vertical-align: top;\n",
       "    }\n",
       "\n",
       "    .dataframe thead th {\n",
       "        text-align: right;\n",
       "    }\n",
       "</style>\n",
       "<table border=\"1\" class=\"dataframe\">\n",
       "  <thead>\n",
       "    <tr style=\"text-align: right;\">\n",
       "      <th></th>\n",
       "      <th>path</th>\n",
       "      <th>status</th>\n",
       "      <th>distance</th>\n",
       "      <th>tau</th>\n",
       "    </tr>\n",
       "    <tr>\n",
       "      <th>ant</th>\n",
       "      <th></th>\n",
       "      <th></th>\n",
       "      <th></th>\n",
       "      <th></th>\n",
       "    </tr>\n",
       "  </thead>\n",
       "  <tbody>\n",
       "    <tr>\n",
       "      <th>4</th>\n",
       "      <td>2,1,3,2,2,2,1,3,1,3</td>\n",
       "      <td>optimal</td>\n",
       "      <td>760.913297</td>\n",
       "      <td>0.001314</td>\n",
       "    </tr>\n",
       "  </tbody>\n",
       "</table>\n",
       "</div>"
      ],
      "text/plain": [
       "                    path   status    distance       tau\n",
       "ant                                                    \n",
       "4    2,1,3,2,2,2,1,3,1,3  optimal  760.913297  0.001314"
      ]
     },
     "execution_count": 12,
     "metadata": {},
     "output_type": "execute_result"
    }
   ],
   "source": [
    "df"
   ]
  },
  {
   "cell_type": "code",
   "execution_count": 5,
   "id": "4a52ce80-1a04-4831-aa39-5ca1b2a8d79f",
   "metadata": {},
   "outputs": [
    {
     "data": {
      "text/html": [
       "<div>\n",
       "<style scoped>\n",
       "    .dataframe tbody tr th:only-of-type {\n",
       "        vertical-align: middle;\n",
       "    }\n",
       "\n",
       "    .dataframe tbody tr th {\n",
       "        vertical-align: top;\n",
       "    }\n",
       "\n",
       "    .dataframe thead th {\n",
       "        text-align: right;\n",
       "    }\n",
       "</style>\n",
       "<table border=\"1\" class=\"dataframe\">\n",
       "  <thead>\n",
       "    <tr style=\"text-align: right;\">\n",
       "      <th></th>\n",
       "      <th>path</th>\n",
       "      <th>status</th>\n",
       "      <th>distance</th>\n",
       "      <th>tau</th>\n",
       "    </tr>\n",
       "    <tr>\n",
       "      <th>ant</th>\n",
       "      <th></th>\n",
       "      <th></th>\n",
       "      <th></th>\n",
       "      <th></th>\n",
       "    </tr>\n",
       "  </thead>\n",
       "  <tbody>\n",
       "    <tr>\n",
       "      <th>4</th>\n",
       "      <td>1,1,1,1,3,2,2,3,3,3</td>\n",
       "      <td>optimal</td>\n",
       "      <td>745.923751</td>\n",
       "      <td>0.001341</td>\n",
       "    </tr>\n",
       "  </tbody>\n",
       "</table>\n",
       "</div>"
      ],
      "text/plain": [
       "                    path   status    distance       tau\n",
       "ant                                                    \n",
       "4    1,1,1,1,3,2,2,3,3,3  optimal  745.923751  0.001341"
      ]
     },
     "execution_count": 5,
     "metadata": {},
     "output_type": "execute_result"
    }
   ],
   "source": [
    "# 2 - Generate new paths for ants\n",
    "PSystem = system.PowerSystem(name=power_system_name)\n",
    "\n",
    "l = []\n",
    "for ant in new_paths:\n",
    "    option = PSystem.sample_operation()\n",
    "    result = PSystem.solve(operation=option)\n",
    "    distance = result.get(\"Ft\")\n",
    "    status = result.get(\"status\")\n",
    "\n",
    "    l.append(\n",
    "        {\n",
    "            \"ant\": ant,\n",
    "            \"path\": \",\".join([str(int) for int in option.opz.to_list()]),\n",
    "            \"status\": status,\n",
    "            \"distance\": distance,\n",
    "            \"tau\": 1 / distance,\n",
    "\n",
    "        }\n",
    "    )\n",
    "df = pd.DataFrame(l).set_index(\"ant\")\n",
    "\n",
    "print(\"Colony initialized with Power System {}\".format(power_system_name))"
   ]
  },
  {
   "cell_type": "code",
   "execution_count": 59,
   "id": "fd430053-07aa-4c03-87c8-f66f1182f3de",
   "metadata": {},
   "outputs": [
    {
     "data": {
      "text/html": [
       "<div>\n",
       "<style scoped>\n",
       "    .dataframe tbody tr th:only-of-type {\n",
       "        vertical-align: middle;\n",
       "    }\n",
       "\n",
       "    .dataframe tbody tr th {\n",
       "        vertical-align: top;\n",
       "    }\n",
       "\n",
       "    .dataframe thead th {\n",
       "        text-align: right;\n",
       "    }\n",
       "</style>\n",
       "<table border=\"1\" class=\"dataframe\">\n",
       "  <thead>\n",
       "    <tr style=\"text-align: right;\">\n",
       "      <th></th>\n",
       "      <th>path</th>\n",
       "      <th>status</th>\n",
       "      <th>distance</th>\n",
       "      <th>tau</th>\n",
       "      <th>prob</th>\n",
       "    </tr>\n",
       "    <tr>\n",
       "      <th>ant</th>\n",
       "      <th></th>\n",
       "      <th></th>\n",
       "      <th></th>\n",
       "      <th></th>\n",
       "      <th></th>\n",
       "    </tr>\n",
       "  </thead>\n",
       "  <tbody>\n",
       "    <tr>\n",
       "      <th>4</th>\n",
       "      <td>2,3,2,2,1,1,3,1,2,3</td>\n",
       "      <td>optimal</td>\n",
       "      <td>738.691487</td>\n",
       "      <td>0.001354</td>\n",
       "      <td>26.002457</td>\n",
       "    </tr>\n",
       "  </tbody>\n",
       "</table>\n",
       "</div>"
      ],
      "text/plain": [
       "                    path   status    distance       tau       prob\n",
       "ant                                                               \n",
       "4    2,3,2,2,1,1,3,1,2,3  optimal  738.691487  0.001354  26.002457"
      ]
     },
     "execution_count": 59,
     "metadata": {},
     "output_type": "execute_result"
    }
   ],
   "source": [
    "new_paths"
   ]
  },
  {
   "cell_type": "code",
   "execution_count": 53,
   "id": "bac8fa1a-b95e-4540-9eb0-b4e30fe33fbc",
   "metadata": {},
   "outputs": [
    {
     "data": {
      "text/html": [
       "<div>\n",
       "<style scoped>\n",
       "    .dataframe tbody tr th:only-of-type {\n",
       "        vertical-align: middle;\n",
       "    }\n",
       "\n",
       "    .dataframe tbody tr th {\n",
       "        vertical-align: top;\n",
       "    }\n",
       "\n",
       "    .dataframe thead th {\n",
       "        text-align: right;\n",
       "    }\n",
       "</style>\n",
       "<table border=\"1\" class=\"dataframe\">\n",
       "  <thead>\n",
       "    <tr style=\"text-align: right;\">\n",
       "      <th></th>\n",
       "      <th>path</th>\n",
       "      <th>status</th>\n",
       "      <th>distance</th>\n",
       "      <th>tau</th>\n",
       "      <th>prob</th>\n",
       "    </tr>\n",
       "    <tr>\n",
       "      <th>ant</th>\n",
       "      <th></th>\n",
       "      <th></th>\n",
       "      <th></th>\n",
       "      <th></th>\n",
       "      <th></th>\n",
       "    </tr>\n",
       "  </thead>\n",
       "  <tbody>\n",
       "    <tr>\n",
       "      <th>1</th>\n",
       "      <td>1,1,3,1,2,1,1,1,2,2</td>\n",
       "      <td>optimal</td>\n",
       "      <td>8.022215e+02</td>\n",
       "      <td>1.246538e-03</td>\n",
       "      <td>23.943254</td>\n",
       "    </tr>\n",
       "    <tr>\n",
       "      <th>2</th>\n",
       "      <td>1,1,2,1,3,2,1,1,2,3</td>\n",
       "      <td>optimal</td>\n",
       "      <td>7.646213e+02</td>\n",
       "      <td>1.307837e-03</td>\n",
       "      <td>25.120662</td>\n",
       "    </tr>\n",
       "    <tr>\n",
       "      <th>3</th>\n",
       "      <td>1,1,3,3,2,1,3,1,3,2</td>\n",
       "      <td>optimal</td>\n",
       "      <td>7.703571e+02</td>\n",
       "      <td>1.298099e-03</td>\n",
       "      <td>24.933625</td>\n",
       "    </tr>\n",
       "    <tr>\n",
       "      <th>4</th>\n",
       "      <td>2,3,2,2,1,1,3,1,2,3</td>\n",
       "      <td>optimal</td>\n",
       "      <td>7.386915e+02</td>\n",
       "      <td>1.353745e-03</td>\n",
       "      <td>26.002457</td>\n",
       "    </tr>\n",
       "    <tr>\n",
       "      <th>5</th>\n",
       "      <td>2,3,1,1,2,2,1,2,1,1</td>\n",
       "      <td>unknown</td>\n",
       "      <td>1.000000e+10</td>\n",
       "      <td>1.000000e-10</td>\n",
       "      <td>0.000002</td>\n",
       "    </tr>\n",
       "  </tbody>\n",
       "</table>\n",
       "</div>"
      ],
      "text/plain": [
       "                    path   status      distance           tau       prob\n",
       "ant                                                                     \n",
       "1    1,1,3,1,2,1,1,1,2,2  optimal  8.022215e+02  1.246538e-03  23.943254\n",
       "2    1,1,2,1,3,2,1,1,2,3  optimal  7.646213e+02  1.307837e-03  25.120662\n",
       "3    1,1,3,3,2,1,3,1,3,2  optimal  7.703571e+02  1.298099e-03  24.933625\n",
       "4    2,3,2,2,1,1,3,1,2,3  optimal  7.386915e+02  1.353745e-03  26.002457\n",
       "5    2,3,1,1,2,2,1,2,1,1  unknown  1.000000e+10  1.000000e-10   0.000002"
      ]
     },
     "execution_count": 53,
     "metadata": {},
     "output_type": "execute_result"
    }
   ],
   "source": [
    "df"
   ]
  },
  {
   "cell_type": "code",
   "execution_count": 33,
   "id": "8f756f80-66f6-4e63-9dca-86f44142fa63",
   "metadata": {},
   "outputs": [
    {
     "data": {
      "text/html": [
       "<div>\n",
       "<style scoped>\n",
       "    .dataframe tbody tr th:only-of-type {\n",
       "        vertical-align: middle;\n",
       "    }\n",
       "\n",
       "    .dataframe tbody tr th {\n",
       "        vertical-align: top;\n",
       "    }\n",
       "\n",
       "    .dataframe thead th {\n",
       "        text-align: right;\n",
       "    }\n",
       "</style>\n",
       "<table border=\"1\" class=\"dataframe\">\n",
       "  <thead>\n",
       "    <tr style=\"text-align: right;\">\n",
       "      <th></th>\n",
       "      <th>path</th>\n",
       "      <th>status</th>\n",
       "      <th>distance</th>\n",
       "      <th>tau</th>\n",
       "      <th>prob</th>\n",
       "    </tr>\n",
       "    <tr>\n",
       "      <th>ant</th>\n",
       "      <th></th>\n",
       "      <th></th>\n",
       "      <th></th>\n",
       "      <th></th>\n",
       "      <th></th>\n",
       "    </tr>\n",
       "  </thead>\n",
       "  <tbody>\n",
       "    <tr>\n",
       "      <th>4</th>\n",
       "      <td>2,2,3,3,1,3,3,2,1,3</td>\n",
       "      <td>optimal</td>\n",
       "      <td>762.488881</td>\n",
       "      <td>0.001311</td>\n",
       "      <td>33.156532</td>\n",
       "    </tr>\n",
       "  </tbody>\n",
       "</table>\n",
       "</div>"
      ],
      "text/plain": [
       "                    path   status    distance       tau       prob\n",
       "ant                                                               \n",
       "4    2,2,3,3,1,3,3,2,1,3  optimal  762.488881  0.001311  33.156532"
      ]
     },
     "execution_count": 33,
     "metadata": {},
     "output_type": "execute_result"
    }
   ],
   "source": [
    "sample = df.sample(weights='prob')\n",
    "sample"
   ]
  },
  {
   "cell_type": "code",
   "execution_count": null,
   "id": "c12d88b7-5adb-4225-94c6-10d0f3811ed2",
   "metadata": {},
   "outputs": [],
   "source": [
    "df.drop[sample.idxe]"
   ]
  },
  {
   "cell_type": "code",
   "execution_count": 43,
   "id": "335ba398-6834-4328-baf2-6e5b353ad06c",
   "metadata": {},
   "outputs": [
    {
     "ename": "AttributeError",
     "evalue": "'DataFrame' object has no attribute 'ant'",
     "output_type": "error",
     "traceback": [
      "\u001b[0;31m---------------------------------------------------------------------------\u001b[0m",
      "\u001b[0;31mAttributeError\u001b[0m                            Traceback (most recent call last)",
      "\u001b[0;32m<ipython-input-43-a1c9e1b0b99a>\u001b[0m in \u001b[0;36m<module>\u001b[0;34m\u001b[0m\n\u001b[0;32m----> 1\u001b[0;31m \u001b[0msample\u001b[0m\u001b[0;34m.\u001b[0m\u001b[0mant\u001b[0m\u001b[0;34m\u001b[0m\u001b[0;34m\u001b[0m\u001b[0m\n\u001b[0m",
      "\u001b[0;32m~/repos/academic/msc/courses/msc-210115/acopoweropt/.venv/lib/python3.8/site-packages/pandas/core/generic.py\u001b[0m in \u001b[0;36m__getattr__\u001b[0;34m(self, name)\u001b[0m\n\u001b[1;32m   5463\u001b[0m             \u001b[0;32mif\u001b[0m \u001b[0mself\u001b[0m\u001b[0;34m.\u001b[0m\u001b[0m_info_axis\u001b[0m\u001b[0;34m.\u001b[0m\u001b[0m_can_hold_identifiers_and_holds_name\u001b[0m\u001b[0;34m(\u001b[0m\u001b[0mname\u001b[0m\u001b[0;34m)\u001b[0m\u001b[0;34m:\u001b[0m\u001b[0;34m\u001b[0m\u001b[0;34m\u001b[0m\u001b[0m\n\u001b[1;32m   5464\u001b[0m                 \u001b[0;32mreturn\u001b[0m \u001b[0mself\u001b[0m\u001b[0;34m[\u001b[0m\u001b[0mname\u001b[0m\u001b[0;34m]\u001b[0m\u001b[0;34m\u001b[0m\u001b[0;34m\u001b[0m\u001b[0m\n\u001b[0;32m-> 5465\u001b[0;31m             \u001b[0;32mreturn\u001b[0m \u001b[0mobject\u001b[0m\u001b[0;34m.\u001b[0m\u001b[0m__getattribute__\u001b[0m\u001b[0;34m(\u001b[0m\u001b[0mself\u001b[0m\u001b[0;34m,\u001b[0m \u001b[0mname\u001b[0m\u001b[0;34m)\u001b[0m\u001b[0;34m\u001b[0m\u001b[0;34m\u001b[0m\u001b[0m\n\u001b[0m\u001b[1;32m   5466\u001b[0m \u001b[0;34m\u001b[0m\u001b[0m\n\u001b[1;32m   5467\u001b[0m     \u001b[0;32mdef\u001b[0m \u001b[0m__setattr__\u001b[0m\u001b[0;34m(\u001b[0m\u001b[0mself\u001b[0m\u001b[0;34m,\u001b[0m \u001b[0mname\u001b[0m\u001b[0;34m:\u001b[0m \u001b[0mstr\u001b[0m\u001b[0;34m,\u001b[0m \u001b[0mvalue\u001b[0m\u001b[0;34m)\u001b[0m \u001b[0;34m->\u001b[0m \u001b[0;32mNone\u001b[0m\u001b[0;34m:\u001b[0m\u001b[0;34m\u001b[0m\u001b[0;34m\u001b[0m\u001b[0m\n",
      "\u001b[0;31mAttributeError\u001b[0m: 'DataFrame' object has no attribute 'ant'"
     ]
    }
   ],
   "source": [
    "sample.ant"
   ]
  }
 ],
 "metadata": {
  "kernelspec": {
   "display_name": "Python 3",
   "language": "python",
   "name": "python3"
  },
  "language_info": {
   "codemirror_mode": {
    "name": "ipython",
    "version": 3
   },
   "file_extension": ".py",
   "mimetype": "text/x-python",
   "name": "python",
   "nbconvert_exporter": "python",
   "pygments_lexer": "ipython3",
   "version": "3.8.6"
  }
 },
 "nbformat": 4,
 "nbformat_minor": 5
}

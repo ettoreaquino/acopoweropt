{
 "cells": [
  {
   "cell_type": "markdown",
   "id": "809aa09a-82df-4665-b913-5fdfb0d554fc",
   "metadata": {},
   "source": [
    "<center><h1>Testing Notebook</h1></center>\n"
   ]
  },
  {
   "cell_type": "markdown",
   "id": "9f03f895-8a30-4cf0-8690-9aaf27da036c",
   "metadata": {},
   "source": [
    "## Loading Entities:\n",
    "\n",
    " - Power System\n",
    " - Ant Colony"
   ]
  },
  {
   "cell_type": "code",
   "execution_count": null,
   "id": "92ca0b5b-c822-4d91-911e-d32957d9e4ac",
   "metadata": {},
   "outputs": [],
   "source": [
    "from acopoweropt import system, colony\n",
    "\n",
    "PSystem = system.PowerSystem(name='s10')\n",
    "Colony = colony.Colony(n_ants=5,phr_evp_rate=0.25)"
   ]
  },
  {
   "cell_type": "markdown",
   "id": "5d0bb8b5-8234-4c3f-a779-bb7b390f333b",
   "metadata": {},
   "source": [
    "## Testing Power System"
   ]
  },
  {
   "cell_type": "code",
   "execution_count": null,
   "id": "5bbfbd60-bdc8-4dbb-a647-ae18b95f9e3b",
   "metadata": {},
   "outputs": [],
   "source": [
    "# Randomly select an operation\n",
    "operation = PSystem.sample_operation()\n",
    "\n",
    "# Solve system\n",
    "solution = PSystem.solve(operation=operation)"
   ]
  },
  {
   "cell_type": "code",
   "execution_count": null,
   "id": "2df2db4b-01ea-4404-aebe-b932097d7a3f",
   "metadata": {},
   "outputs": [],
   "source": [
    "solution.get('Ft')"
   ]
  },
  {
   "cell_type": "markdown",
   "id": "f922f0e9-54e3-472d-9871-55fe07ada350",
   "metadata": {},
   "source": [
    "## Testing Colony"
   ]
  },
  {
   "cell_type": "code",
   "execution_count": 1,
   "id": "58c52fab-2484-4d4f-9b30-20e95e33fd9f",
   "metadata": {},
   "outputs": [],
   "source": [
    "import pandas as pd\n",
    "import numpy as np\n",
    "\n",
    "from acopoweropt import colony, system\n",
    "\n",
    "PSystem = system.PowerSystem(name='s15')\n",
    "Colony = colony.PowerColony(n_ants=5,\n",
    "                            pheromone_evap_rate=0.25,\n",
    "                            PowerSystem=PSystem)"
   ]
  },
  {
   "cell_type": "code",
   "execution_count": 14,
   "id": "24f72d53-352e-4594-9fb0-29393795e7e6",
   "metadata": {},
   "outputs": [
    {
     "data": {
      "text/html": [
       "<div>\n",
       "<style scoped>\n",
       "    .dataframe tbody tr th:only-of-type {\n",
       "        vertical-align: middle;\n",
       "    }\n",
       "\n",
       "    .dataframe tbody tr th {\n",
       "        vertical-align: top;\n",
       "    }\n",
       "\n",
       "    .dataframe thead th {\n",
       "        text-align: right;\n",
       "    }\n",
       "</style>\n",
       "<table border=\"1\" class=\"dataframe\">\n",
       "  <thead>\n",
       "    <tr style=\"text-align: right;\">\n",
       "      <th></th>\n",
       "      <th>path</th>\n",
       "      <th>status</th>\n",
       "      <th>distance</th>\n",
       "      <th>tau</th>\n",
       "    </tr>\n",
       "    <tr>\n",
       "      <th>ant</th>\n",
       "      <th></th>\n",
       "      <th></th>\n",
       "      <th></th>\n",
       "      <th></th>\n",
       "    </tr>\n",
       "  </thead>\n",
       "  <tbody>\n",
       "    <tr>\n",
       "      <th>1</th>\n",
       "      <td>1,1,1,1,1,4,1,1,1,1,1,1,1,1,1</td>\n",
       "      <td>optimal</td>\n",
       "      <td>32935.778875</td>\n",
       "      <td>0.000030</td>\n",
       "    </tr>\n",
       "    <tr>\n",
       "      <th>2</th>\n",
       "      <td>1,4,1,1,2,4,1,1,1,1,1,1,1,1,1</td>\n",
       "      <td>optimal</td>\n",
       "      <td>32576.097022</td>\n",
       "      <td>0.000031</td>\n",
       "    </tr>\n",
       "    <tr>\n",
       "      <th>3</th>\n",
       "      <td>1,4,1,1,2,3,1,1,1,1,1,3,1,1,1</td>\n",
       "      <td>optimal</td>\n",
       "      <td>32571.398082</td>\n",
       "      <td>0.000031</td>\n",
       "    </tr>\n",
       "    <tr>\n",
       "      <th>4</th>\n",
       "      <td>1,4,1,1,1,1,1,1,1,1,1,2,1,1,1</td>\n",
       "      <td>optimal</td>\n",
       "      <td>32850.946954</td>\n",
       "      <td>0.000030</td>\n",
       "    </tr>\n",
       "    <tr>\n",
       "      <th>5</th>\n",
       "      <td>1,1,1,1,2,4,1,1,1,1,1,3,1,1,1</td>\n",
       "      <td>optimal</td>\n",
       "      <td>32794.667176</td>\n",
       "      <td>0.000030</td>\n",
       "    </tr>\n",
       "  </tbody>\n",
       "</table>\n",
       "</div>"
      ],
      "text/plain": [
       "                              path   status      distance       tau\n",
       "ant                                                                \n",
       "1    1,1,1,1,1,4,1,1,1,1,1,1,1,1,1  optimal  32935.778875  0.000030\n",
       "2    1,4,1,1,2,4,1,1,1,1,1,1,1,1,1  optimal  32576.097022  0.000031\n",
       "3    1,4,1,1,2,3,1,1,1,1,1,3,1,1,1  optimal  32571.398082  0.000031\n",
       "4    1,4,1,1,1,1,1,1,1,1,1,2,1,1,1  optimal  32850.946954  0.000030\n",
       "5    1,1,1,1,2,4,1,1,1,1,1,3,1,1,1  optimal  32794.667176  0.000030"
      ]
     },
     "execution_count": 14,
     "metadata": {},
     "output_type": "execute_result"
    }
   ],
   "source": [
    "Colony.initial_paths"
   ]
  },
  {
   "cell_type": "code",
   "execution_count": 2,
   "id": "12ecefe2-a2e0-46d5-a104-0dad137e33c4",
   "metadata": {},
   "outputs": [
    {
     "data": {
      "text/html": [
       "<div>\n",
       "<style scoped>\n",
       "    .dataframe tbody tr th:only-of-type {\n",
       "        vertical-align: middle;\n",
       "    }\n",
       "\n",
       "    .dataframe tbody tr th {\n",
       "        vertical-align: top;\n",
       "    }\n",
       "\n",
       "    .dataframe thead th {\n",
       "        text-align: right;\n",
       "    }\n",
       "</style>\n",
       "<table border=\"1\" class=\"dataframe\">\n",
       "  <thead>\n",
       "    <tr style=\"text-align: right;\">\n",
       "      <th></th>\n",
       "      <th>1</th>\n",
       "      <th>2</th>\n",
       "      <th>3</th>\n",
       "      <th>4</th>\n",
       "      <th>5</th>\n",
       "      <th>6</th>\n",
       "      <th>7</th>\n",
       "      <th>8</th>\n",
       "      <th>9</th>\n",
       "      <th>10</th>\n",
       "      <th>11</th>\n",
       "      <th>12</th>\n",
       "      <th>13</th>\n",
       "      <th>14</th>\n",
       "      <th>15</th>\n",
       "    </tr>\n",
       "    <tr>\n",
       "      <th>opz</th>\n",
       "      <th></th>\n",
       "      <th></th>\n",
       "      <th></th>\n",
       "      <th></th>\n",
       "      <th></th>\n",
       "      <th></th>\n",
       "      <th></th>\n",
       "      <th></th>\n",
       "      <th></th>\n",
       "      <th></th>\n",
       "      <th></th>\n",
       "      <th></th>\n",
       "      <th></th>\n",
       "      <th></th>\n",
       "      <th></th>\n",
       "    </tr>\n",
       "  </thead>\n",
       "  <tbody>\n",
       "    <tr>\n",
       "      <th>1</th>\n",
       "      <td>0.3054</td>\n",
       "      <td>0.1218</td>\n",
       "      <td>0.3054</td>\n",
       "      <td>0.3054</td>\n",
       "      <td>0.1216</td>\n",
       "      <td>0.0608</td>\n",
       "      <td>0.3054</td>\n",
       "      <td>0.3054</td>\n",
       "      <td>0.3054</td>\n",
       "      <td>0.3054</td>\n",
       "      <td>0.3054</td>\n",
       "      <td>0.1222</td>\n",
       "      <td>0.3054</td>\n",
       "      <td>0.3054</td>\n",
       "      <td>0.3054</td>\n",
       "    </tr>\n",
       "    <tr>\n",
       "      <th>2</th>\n",
       "      <td>0.0000</td>\n",
       "      <td>0.0000</td>\n",
       "      <td>0.0000</td>\n",
       "      <td>0.0000</td>\n",
       "      <td>0.1838</td>\n",
       "      <td>0.0000</td>\n",
       "      <td>0.0000</td>\n",
       "      <td>0.0000</td>\n",
       "      <td>0.0000</td>\n",
       "      <td>0.0000</td>\n",
       "      <td>0.0000</td>\n",
       "      <td>0.0608</td>\n",
       "      <td>0.0000</td>\n",
       "      <td>0.0000</td>\n",
       "      <td>0.0000</td>\n",
       "    </tr>\n",
       "    <tr>\n",
       "      <th>3</th>\n",
       "      <td>0.0000</td>\n",
       "      <td>0.0000</td>\n",
       "      <td>0.0000</td>\n",
       "      <td>0.0000</td>\n",
       "      <td>0.0000</td>\n",
       "      <td>0.0614</td>\n",
       "      <td>0.0000</td>\n",
       "      <td>0.0000</td>\n",
       "      <td>0.0000</td>\n",
       "      <td>0.0000</td>\n",
       "      <td>0.0000</td>\n",
       "      <td>0.1224</td>\n",
       "      <td>0.0000</td>\n",
       "      <td>0.0000</td>\n",
       "      <td>0.0000</td>\n",
       "    </tr>\n",
       "    <tr>\n",
       "      <th>4</th>\n",
       "      <td>0.0000</td>\n",
       "      <td>0.1836</td>\n",
       "      <td>0.0000</td>\n",
       "      <td>0.0000</td>\n",
       "      <td>0.0000</td>\n",
       "      <td>0.1832</td>\n",
       "      <td>0.0000</td>\n",
       "      <td>0.0000</td>\n",
       "      <td>0.0000</td>\n",
       "      <td>0.0000</td>\n",
       "      <td>0.0000</td>\n",
       "      <td>0.0000</td>\n",
       "      <td>0.0000</td>\n",
       "      <td>0.0000</td>\n",
       "      <td>0.0000</td>\n",
       "    </tr>\n",
       "  </tbody>\n",
       "</table>\n",
       "</div>"
      ],
      "text/plain": [
       "         1       2       3       4       5       6       7       8       9   \\\n",
       "opz                                                                           \n",
       "1    0.3054  0.1218  0.3054  0.3054  0.1216  0.0608  0.3054  0.3054  0.3054   \n",
       "2    0.0000  0.0000  0.0000  0.0000  0.1838  0.0000  0.0000  0.0000  0.0000   \n",
       "3    0.0000  0.0000  0.0000  0.0000  0.0000  0.0614  0.0000  0.0000  0.0000   \n",
       "4    0.0000  0.1836  0.0000  0.0000  0.0000  0.1832  0.0000  0.0000  0.0000   \n",
       "\n",
       "         10      11      12      13      14      15  \n",
       "opz                                                  \n",
       "1    0.3054  0.3054  0.1222  0.3054  0.3054  0.3054  \n",
       "2    0.0000  0.0000  0.0608  0.0000  0.0000  0.0000  \n",
       "3    0.0000  0.0000  0.1224  0.0000  0.0000  0.0000  \n",
       "4    0.0000  0.0000  0.0000  0.0000  0.0000  0.0000  "
      ]
     },
     "execution_count": 2,
     "metadata": {},
     "output_type": "execute_result"
    }
   ],
   "source": [
    "Colony.pheromone"
   ]
  },
  {
   "cell_type": "code",
   "execution_count": 21,
   "id": "7e45d139-4dad-4275-b272-a008474bb677",
   "metadata": {},
   "outputs": [],
   "source": [
    "# Evaporate pheromone\n",
    "# MFero[row, 0] = (1 - sigma_best) * MFero[row, 0]\n",
    "\n",
    "Colony.pheromone = (1 - Colony.phr_evp_rate) * Colony.pheromone"
   ]
  },
  {
   "cell_type": "code",
   "execution_count": 22,
   "id": "971a0178-0edc-486c-bb8d-51cb4593e108",
   "metadata": {},
   "outputs": [
    {
     "data": {
      "text/html": [
       "<div>\n",
       "<style scoped>\n",
       "    .dataframe tbody tr th:only-of-type {\n",
       "        vertical-align: middle;\n",
       "    }\n",
       "\n",
       "    .dataframe tbody tr th {\n",
       "        vertical-align: top;\n",
       "    }\n",
       "\n",
       "    .dataframe thead th {\n",
       "        text-align: right;\n",
       "    }\n",
       "</style>\n",
       "<table border=\"1\" class=\"dataframe\">\n",
       "  <thead>\n",
       "    <tr style=\"text-align: right;\">\n",
       "      <th></th>\n",
       "      <th>1</th>\n",
       "      <th>2</th>\n",
       "      <th>3</th>\n",
       "      <th>4</th>\n",
       "      <th>5</th>\n",
       "      <th>6</th>\n",
       "      <th>7</th>\n",
       "      <th>8</th>\n",
       "      <th>9</th>\n",
       "      <th>10</th>\n",
       "      <th>11</th>\n",
       "      <th>12</th>\n",
       "      <th>13</th>\n",
       "      <th>14</th>\n",
       "      <th>15</th>\n",
       "    </tr>\n",
       "    <tr>\n",
       "      <th>opz</th>\n",
       "      <th></th>\n",
       "      <th></th>\n",
       "      <th></th>\n",
       "      <th></th>\n",
       "      <th></th>\n",
       "      <th></th>\n",
       "      <th></th>\n",
       "      <th></th>\n",
       "      <th></th>\n",
       "      <th></th>\n",
       "      <th></th>\n",
       "      <th></th>\n",
       "      <th></th>\n",
       "      <th></th>\n",
       "      <th></th>\n",
       "    </tr>\n",
       "  </thead>\n",
       "  <tbody>\n",
       "    <tr>\n",
       "      <th>1</th>\n",
       "      <td>0.22905</td>\n",
       "      <td>0.09135</td>\n",
       "      <td>0.22905</td>\n",
       "      <td>0.22905</td>\n",
       "      <td>0.09120</td>\n",
       "      <td>0.04560</td>\n",
       "      <td>0.22905</td>\n",
       "      <td>0.22905</td>\n",
       "      <td>0.22905</td>\n",
       "      <td>0.22905</td>\n",
       "      <td>0.22905</td>\n",
       "      <td>0.09165</td>\n",
       "      <td>0.22905</td>\n",
       "      <td>0.22905</td>\n",
       "      <td>0.22905</td>\n",
       "    </tr>\n",
       "    <tr>\n",
       "      <th>2</th>\n",
       "      <td>0.00000</td>\n",
       "      <td>0.00000</td>\n",
       "      <td>0.00000</td>\n",
       "      <td>0.00000</td>\n",
       "      <td>0.13785</td>\n",
       "      <td>0.00000</td>\n",
       "      <td>0.00000</td>\n",
       "      <td>0.00000</td>\n",
       "      <td>0.00000</td>\n",
       "      <td>0.00000</td>\n",
       "      <td>0.00000</td>\n",
       "      <td>0.04560</td>\n",
       "      <td>0.00000</td>\n",
       "      <td>0.00000</td>\n",
       "      <td>0.00000</td>\n",
       "    </tr>\n",
       "    <tr>\n",
       "      <th>3</th>\n",
       "      <td>0.00000</td>\n",
       "      <td>0.00000</td>\n",
       "      <td>0.00000</td>\n",
       "      <td>0.00000</td>\n",
       "      <td>0.00000</td>\n",
       "      <td>0.04605</td>\n",
       "      <td>0.00000</td>\n",
       "      <td>0.00000</td>\n",
       "      <td>0.00000</td>\n",
       "      <td>0.00000</td>\n",
       "      <td>0.00000</td>\n",
       "      <td>0.09180</td>\n",
       "      <td>0.00000</td>\n",
       "      <td>0.00000</td>\n",
       "      <td>0.00000</td>\n",
       "    </tr>\n",
       "    <tr>\n",
       "      <th>4</th>\n",
       "      <td>0.00000</td>\n",
       "      <td>0.13770</td>\n",
       "      <td>0.00000</td>\n",
       "      <td>0.00000</td>\n",
       "      <td>0.00000</td>\n",
       "      <td>0.13740</td>\n",
       "      <td>0.00000</td>\n",
       "      <td>0.00000</td>\n",
       "      <td>0.00000</td>\n",
       "      <td>0.00000</td>\n",
       "      <td>0.00000</td>\n",
       "      <td>0.00000</td>\n",
       "      <td>0.00000</td>\n",
       "      <td>0.00000</td>\n",
       "      <td>0.00000</td>\n",
       "    </tr>\n",
       "  </tbody>\n",
       "</table>\n",
       "</div>"
      ],
      "text/plain": [
       "          1        2        3        4        5        6        7        8   \\\n",
       "opz                                                                           \n",
       "1    0.22905  0.09135  0.22905  0.22905  0.09120  0.04560  0.22905  0.22905   \n",
       "2    0.00000  0.00000  0.00000  0.00000  0.13785  0.00000  0.00000  0.00000   \n",
       "3    0.00000  0.00000  0.00000  0.00000  0.00000  0.04605  0.00000  0.00000   \n",
       "4    0.00000  0.13770  0.00000  0.00000  0.00000  0.13740  0.00000  0.00000   \n",
       "\n",
       "          9        10       11       12       13       14       15  \n",
       "opz                                                                 \n",
       "1    0.22905  0.22905  0.22905  0.09165  0.22905  0.22905  0.22905  \n",
       "2    0.00000  0.00000  0.00000  0.04560  0.00000  0.00000  0.00000  \n",
       "3    0.00000  0.00000  0.00000  0.09180  0.00000  0.00000  0.00000  \n",
       "4    0.00000  0.00000  0.00000  0.00000  0.00000  0.00000  0.00000  "
      ]
     },
     "execution_count": 22,
     "metadata": {},
     "output_type": "execute_result"
    }
   ],
   "source": [
    "Colony.pheromone"
   ]
  },
  {
   "cell_type": "code",
   "execution_count": 16,
   "id": "674e0729-f6b6-4311-bdbb-443d79b20075",
   "metadata": {},
   "outputs": [],
   "source": [
    "# 1 - Sample 80% to follow paths leaving 20% of the ants to select new paths\n",
    "n_iter = 1\n",
    "\n",
    "paths = {0: Colony.initial_paths}\n",
    "\n",
    "for i in range(n_iter):\n",
    "    \n",
    "    # Evaporate Pheromone\n",
    "    Colony.pheromone = (1 - Colony.phr_evp_rate) * Colony.pheromone\n",
    "    \n",
    "    if i == 0:\n",
    "        paths = Colony.initial_paths\n",
    "        \n",
    "        following_ants = paths.sample(frac=0.8, replace=False, random_state=1)\n",
    "        random_ants = paths.drop(following_ants.index)\n",
    "        \n",
    "        for ant in following_ants:\n",
    "            follow_path = Colony.choose_path()\n",
    "            "
   ]
  },
  {
   "cell_type": "code",
   "execution_count": 19,
   "id": "233df69a-6cf7-432f-b537-8b8ce8663a69",
   "metadata": {},
   "outputs": [
    {
     "data": {
      "text/plain": [
       "Int64Index([3, 2, 5, 1], dtype='int64', name='ant')"
      ]
     },
     "execution_count": 19,
     "metadata": {},
     "output_type": "execute_result"
    }
   ],
   "source": [
    "following_ants.index"
   ]
  },
  {
   "cell_type": "code",
   "execution_count": 20,
   "id": "05753ddf-f09b-47cc-b0ff-aa1df070eb83",
   "metadata": {},
   "outputs": [
    {
     "data": {
      "text/plain": [
       "Int64Index([4], dtype='int64', name='ant')"
      ]
     },
     "execution_count": 20,
     "metadata": {},
     "output_type": "execute_result"
    }
   ],
   "source": [
    "random_ants.index"
   ]
  },
  {
   "cell_type": "code",
   "execution_count": 209,
   "id": "8766f40a-5965-4e98-b3bb-0c49de26fd6d",
   "metadata": {},
   "outputs": [
    {
     "data": {
      "text/plain": [
       "[1, 4, 1, 1, 2, 1, 1, 1, 1, 1, 1, 2, 1, 1, 1]"
      ]
     },
     "execution_count": 209,
     "metadata": {},
     "output_type": "execute_result"
    }
   ],
   "source": [
    "[Colony.pheromone.sample(n=1, weights=Colony.pheromone[tgu], axis=0).index[0] for tgu in Colony.pheromone.columns]"
   ]
  },
  {
   "cell_type": "code",
   "execution_count": 163,
   "id": "d983af1c-b33b-4b92-8bd0-dafc192ee43f",
   "metadata": {},
   "outputs": [
    {
     "data": {
      "text/plain": [
       "[1, 4, 1, 1, 2, 1, 1, 1, 1, 1, 1, 2, 1, 1, 1]"
      ]
     },
     "execution_count": 163,
     "metadata": {},
     "output_type": "execute_result"
    }
   ],
   "source": []
  },
  {
   "cell_type": "code",
   "execution_count": 161,
   "id": "4785fd95-0981-47bf-bb0f-70877c2d83ff",
   "metadata": {},
   "outputs": [
    {
     "data": {
      "text/plain": [
       "4"
      ]
     },
     "execution_count": 161,
     "metadata": {},
     "output_type": "execute_result"
    }
   ],
   "source": [
    "Colony.pheromone.sample(n=1, weights=Colony.pheromone[2], axis=0).index[0]"
   ]
  },
  {
   "cell_type": "code",
   "execution_count": 165,
   "id": "cd11e7a5-f3d8-41e9-aa67-6bb7e75552b3",
   "metadata": {},
   "outputs": [
    {
     "data": {
      "text/html": [
       "<div>\n",
       "<style scoped>\n",
       "    .dataframe tbody tr th:only-of-type {\n",
       "        vertical-align: middle;\n",
       "    }\n",
       "\n",
       "    .dataframe tbody tr th {\n",
       "        vertical-align: top;\n",
       "    }\n",
       "\n",
       "    .dataframe thead th {\n",
       "        text-align: right;\n",
       "    }\n",
       "</style>\n",
       "<table border=\"1\" class=\"dataframe\">\n",
       "  <thead>\n",
       "    <tr style=\"text-align: right;\">\n",
       "      <th></th>\n",
       "      <th>1</th>\n",
       "      <th>2</th>\n",
       "      <th>3</th>\n",
       "      <th>4</th>\n",
       "      <th>5</th>\n",
       "      <th>6</th>\n",
       "      <th>7</th>\n",
       "      <th>8</th>\n",
       "      <th>9</th>\n",
       "      <th>10</th>\n",
       "      <th>11</th>\n",
       "      <th>12</th>\n",
       "      <th>13</th>\n",
       "      <th>14</th>\n",
       "      <th>15</th>\n",
       "    </tr>\n",
       "    <tr>\n",
       "      <th>opz</th>\n",
       "      <th></th>\n",
       "      <th></th>\n",
       "      <th></th>\n",
       "      <th></th>\n",
       "      <th></th>\n",
       "      <th></th>\n",
       "      <th></th>\n",
       "      <th></th>\n",
       "      <th></th>\n",
       "      <th></th>\n",
       "      <th></th>\n",
       "      <th></th>\n",
       "      <th></th>\n",
       "      <th></th>\n",
       "      <th></th>\n",
       "    </tr>\n",
       "  </thead>\n",
       "  <tbody>\n",
       "    <tr>\n",
       "      <th>1</th>\n",
       "      <td>0.3066</td>\n",
       "      <td>0.0000</td>\n",
       "      <td>0.3066</td>\n",
       "      <td>0.3066</td>\n",
       "      <td>0.0000</td>\n",
       "      <td>0.0612</td>\n",
       "      <td>0.3066</td>\n",
       "      <td>0.3066</td>\n",
       "      <td>0.3066</td>\n",
       "      <td>0.3066</td>\n",
       "      <td>0.3066</td>\n",
       "      <td>0.0612</td>\n",
       "      <td>0.3066</td>\n",
       "      <td>0.3066</td>\n",
       "      <td>0.3066</td>\n",
       "    </tr>\n",
       "    <tr>\n",
       "      <th>2</th>\n",
       "      <td>0.0000</td>\n",
       "      <td>0.0000</td>\n",
       "      <td>0.0000</td>\n",
       "      <td>0.0000</td>\n",
       "      <td>0.1840</td>\n",
       "      <td>0.0612</td>\n",
       "      <td>0.0000</td>\n",
       "      <td>0.0000</td>\n",
       "      <td>0.0000</td>\n",
       "      <td>0.0000</td>\n",
       "      <td>0.0000</td>\n",
       "      <td>0.1226</td>\n",
       "      <td>0.0000</td>\n",
       "      <td>0.0000</td>\n",
       "      <td>0.0000</td>\n",
       "    </tr>\n",
       "    <tr>\n",
       "      <th>3</th>\n",
       "      <td>0.0000</td>\n",
       "      <td>0.1226</td>\n",
       "      <td>0.0000</td>\n",
       "      <td>0.0000</td>\n",
       "      <td>0.1226</td>\n",
       "      <td>0.1842</td>\n",
       "      <td>0.0000</td>\n",
       "      <td>0.0000</td>\n",
       "      <td>0.0000</td>\n",
       "      <td>0.0000</td>\n",
       "      <td>0.0000</td>\n",
       "      <td>0.1228</td>\n",
       "      <td>0.0000</td>\n",
       "      <td>0.0000</td>\n",
       "      <td>0.0000</td>\n",
       "    </tr>\n",
       "    <tr>\n",
       "      <th>4</th>\n",
       "      <td>0.0000</td>\n",
       "      <td>0.1840</td>\n",
       "      <td>0.0000</td>\n",
       "      <td>0.0000</td>\n",
       "      <td>0.0000</td>\n",
       "      <td>0.0000</td>\n",
       "      <td>0.0000</td>\n",
       "      <td>0.0000</td>\n",
       "      <td>0.0000</td>\n",
       "      <td>0.0000</td>\n",
       "      <td>0.0000</td>\n",
       "      <td>0.0000</td>\n",
       "      <td>0.0000</td>\n",
       "      <td>0.0000</td>\n",
       "      <td>0.0000</td>\n",
       "    </tr>\n",
       "  </tbody>\n",
       "</table>\n",
       "</div>"
      ],
      "text/plain": [
       "         1       2       3       4       5       6       7       8       9   \\\n",
       "opz                                                                           \n",
       "1    0.3066  0.0000  0.3066  0.3066  0.0000  0.0612  0.3066  0.3066  0.3066   \n",
       "2    0.0000  0.0000  0.0000  0.0000  0.1840  0.0612  0.0000  0.0000  0.0000   \n",
       "3    0.0000  0.1226  0.0000  0.0000  0.1226  0.1842  0.0000  0.0000  0.0000   \n",
       "4    0.0000  0.1840  0.0000  0.0000  0.0000  0.0000  0.0000  0.0000  0.0000   \n",
       "\n",
       "         10      11      12      13      14      15  \n",
       "opz                                                  \n",
       "1    0.3066  0.3066  0.0612  0.3066  0.3066  0.3066  \n",
       "2    0.0000  0.0000  0.1226  0.0000  0.0000  0.0000  \n",
       "3    0.0000  0.0000  0.1228  0.0000  0.0000  0.0000  \n",
       "4    0.0000  0.0000  0.0000  0.0000  0.0000  0.0000  "
      ]
     },
     "execution_count": 165,
     "metadata": {},
     "output_type": "execute_result"
    }
   ],
   "source": [
    "Colony.pheromone"
   ]
  },
  {
   "cell_type": "code",
   "execution_count": 66,
   "id": "924e05fc-9234-4f82-9276-20af94422d76",
   "metadata": {},
   "outputs": [
    {
     "data": {
      "text/plain": [
       "[1]"
      ]
     },
     "execution_count": 66,
     "metadata": {},
     "output_type": "execute_result"
    }
   ],
   "source": [
    "import random\n",
    "\n",
    "\n",
    "random.choices(population=Colony.pheromone[1], weights=[Colony.pheromone[1][i+1]/Colony.pheromone[1].sum() for i,n in enumerate(Colony.pheromone[1])],k=1)"
   ]
  },
  {
   "cell_type": "code",
   "execution_count": 75,
   "id": "22b6bbf7-e75c-4c14-bd43-44ce58d32ec4",
   "metadata": {},
   "outputs": [
    {
     "data": {
      "text/plain": [
       "[1.0, 0.0, 0.0, 0.0]"
      ]
     },
     "execution_count": 75,
     "metadata": {},
     "output_type": "execute_result"
    }
   ],
   "source": [
    "[Colony.pheromone[1][i+1]/Colony.pheromone[1].sum() for i,n in enumerate(Colony.pheromone[1])]"
   ]
  },
  {
   "cell_type": "code",
   "execution_count": 69,
   "id": "cd731291-dc4a-4572-8817-efe60f073b6b",
   "metadata": {},
   "outputs": [
    {
     "data": {
      "text/plain": [
       "0.3066"
      ]
     },
     "execution_count": 69,
     "metadata": {},
     "output_type": "execute_result"
    }
   ],
   "source": [
    "Colony.pheromone[1].sum()"
   ]
  },
  {
   "cell_type": "code",
   "execution_count": null,
   "id": "6344858e-5717-4d58-ac47-0c85e05ad3c1",
   "metadata": {},
   "outputs": [],
   "source": []
  }
 ],
 "metadata": {
  "kernelspec": {
   "display_name": "Python 3",
   "language": "python",
   "name": "python3"
  },
  "language_info": {
   "codemirror_mode": {
    "name": "ipython",
    "version": 3
   },
   "file_extension": ".py",
   "mimetype": "text/x-python",
   "name": "python",
   "nbconvert_exporter": "python",
   "pygments_lexer": "ipython3",
   "version": "3.8.6"
  }
 },
 "nbformat": 4,
 "nbformat_minor": 5
}

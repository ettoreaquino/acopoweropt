{
 "cells": [
  {
   "cell_type": "markdown",
   "id": "809aa09a-82df-4665-b913-5fdfb0d554fc",
   "metadata": {},
   "source": [
    "<center><h1>Testing Notebook</h1></center>\n"
   ]
  },
  {
   "cell_type": "markdown",
   "id": "9f03f895-8a30-4cf0-8690-9aaf27da036c",
   "metadata": {},
   "source": [
    "## Loading Entities:\n",
    "\n",
    " - Power System\n",
    " - Ant Colony"
   ]
  },
  {
   "cell_type": "code",
   "execution_count": null,
   "id": "92ca0b5b-c822-4d91-911e-d32957d9e4ac",
   "metadata": {},
   "outputs": [],
   "source": [
    "from acopoweropt import system, colony\n",
    "\n",
    "PSystem = system.PowerSystem(name='s10')\n",
    "Colony = colony.Colony(n_ants=5,phr_evp_rate=0.25)"
   ]
  },
  {
   "cell_type": "markdown",
   "id": "5d0bb8b5-8234-4c3f-a779-bb7b390f333b",
   "metadata": {},
   "source": [
    "## Testing Power System"
   ]
  },
  {
   "cell_type": "code",
   "execution_count": null,
   "id": "5bbfbd60-bdc8-4dbb-a647-ae18b95f9e3b",
   "metadata": {},
   "outputs": [],
   "source": [
    "# Randomly select an operation\n",
    "operation = PSystem.sample_operation()\n",
    "\n",
    "# Solve system\n",
    "solution = PSystem.solve(operation=operation)"
   ]
  },
  {
   "cell_type": "code",
   "execution_count": null,
   "id": "2df2db4b-01ea-4404-aebe-b932097d7a3f",
   "metadata": {},
   "outputs": [],
   "source": [
    "solution.get('Ft')"
   ]
  },
  {
   "cell_type": "markdown",
   "id": "f922f0e9-54e3-472d-9871-55fe07ada350",
   "metadata": {},
   "source": [
    "## Testing Colony"
   ]
  },
  {
   "cell_type": "code",
   "execution_count": 1,
   "id": "58c52fab-2484-4d4f-9b30-20e95e33fd9f",
   "metadata": {},
   "outputs": [],
   "source": [
    "import pandas as pd\n",
    "import numpy as np\n",
    "\n",
    "from acopoweropt import colony, system\n",
    "\n"
   ]
  },
  {
   "cell_type": "code",
   "execution_count": 3,
   "id": "674e0729-f6b6-4311-bdbb-443d79b20075",
   "metadata": {
    "scrolled": true,
    "tags": []
   },
   "outputs": [
    {
     "name": "stdout",
     "output_type": "stream",
     "text": [
      "Iteracao: 0 - MinValue: 32583.629747776522\n",
      "Iteracao: 1 - MinValue: 32583.629747776522\n",
      "Iteracao: 2 - MinValue: 32614.570709239342\n",
      "Iteracao: 3 - MinValue: 32640.6879144951\n",
      "Iteracao: 4 - MinValue: 32552.04791396032\n",
      "Iteracao: 5 - MinValue: 32583.310213033616\n",
      "Iteracao: 6 - MinValue: 32552.04791396032\n",
      "Iteracao: 7 - MinValue: 32598.523380515573\n",
      "Iteracao: 8 - MinValue: 32561.557341875046\n",
      "Iteracao: 9 - MinValue: 32560.359066619472\n",
      "Iteracao: 10 - MinValue: 32581.833560660405\n",
      "Iteracao: 11 - MinValue: 32561.557341875046\n",
      "Iteracao: 12 - MinValue: 32561.557341875046\n",
      "Iteracao: 13 - MinValue: 32571.39808200774\n",
      "Iteracao: 14 - MinValue: 32598.523380515573\n",
      "Iteracao: 15 - MinValue: 32572.569313792294\n",
      "Iteracao: 16 - MinValue: 32688.619792407902\n",
      "Iteracao: 17 - MinValue: 32547.487810882907\n",
      "Iteracao: 18 - MinValue: 32550.63564329305\n",
      "Iteracao: 19 - MinValue: 32597.91399600845\n",
      "Iteracao: 20 - MinValue: 32614.570709239342\n",
      "Iteracao: 21 - MinValue: 32646.3004203997\n",
      "Iteracao: 22 - MinValue: 32560.43673580717\n",
      "Iteracao: 23 - MinValue: 32723.632534663022\n",
      "Iteracao: 24 - MinValue: 32547.93567437137\n",
      "Iteracao: 25 - MinValue: 32553.401295152955\n",
      "Iteracao: 26 - MinValue: 32560.43673580717\n",
      "Iteracao: 27 - MinValue: 32554.77475779384\n",
      "Iteracao: 28 - MinValue: 32550.63564329305\n",
      "Iteracao: 29 - MinValue: 32642.213898240265\n",
      "Iteracao: 30 - MinValue: 32568.30696287564\n",
      "Iteracao: 31 - MinValue: 32598.305417981006\n",
      "Iteracao: 32 - MinValue: 32568.45361008581\n",
      "Iteracao: 33 - MinValue: 32550.63564329305\n",
      "Iteracao: 34 - MinValue: 32677.713500609218\n",
      "Iteracao: 35 - MinValue: 32562.934230476018\n",
      "Iteracao: 36 - MinValue: 32592.46391064209\n",
      "Iteracao: 37 - MinValue: 32573.795275333352\n",
      "Iteracao: 38 - MinValue: 32560.68841772498\n",
      "Iteracao: 39 - MinValue: 32573.795275333352\n",
      "Iteracao: 40 - MinValue: 32681.603231623747\n",
      "Iteracao: 41 - MinValue: 32597.91399600845\n",
      "Iteracao: 42 - MinValue: 32578.72138765316\n",
      "Iteracao: 43 - MinValue: 32618.615522536245\n",
      "Iteracao: 44 - MinValue: 32682.038385674143\n",
      "Iteracao: 45 - MinValue: 32756.129701016816\n",
      "Iteracao: 46 - MinValue: 32767.297929497905\n",
      "Iteracao: 47 - MinValue: 32578.72138765316\n",
      "Iteracao: 48 - MinValue: 32682.038385674143\n",
      "Iteracao: 49 - MinValue: 32682.038385674143\n",
      "Iteracao: 50 - MinValue: 32691.21076691592\n"
     ]
    }
   ],
   "source": [
    "import pandas as pd\n",
    "import numpy as np\n",
    "\n",
    "from acopoweropt import colony, system\n",
    "\n",
    "PSystem = system.PowerSystem(name='s15')\n",
    "Colony = colony.PowerColony(n_ants=10,\n",
    "                            pheromone_evap_rate=0.25,\n",
    "                            PowerSystem=PSystem)\n",
    "\n",
    "print(\"Iteracao: {} - MinValue: {}\".format(0, Colony.paths[0].distance.min()))\n",
    "\n",
    "n_iter = 50\n",
    "\n",
    "for i in range(n_iter):\n",
    "    # Getting last taken paths\n",
    "    paths = Colony.paths[i].copy()\n",
    "    # Evaporate Pheromone\n",
    "    Colony.pheromone = (1 - Colony.pheromone_evap_rate) * Colony.pheromone\n",
    "   \n",
    "    # Selecting Ants (80/20) to follow or not the pheromone paths\n",
    "    fol_ants = paths.sample(frac=0.8, replace=False, random_state=1)\n",
    "    rnd_ants = paths.drop(fol_ants.index)\n",
    "\n",
    "    l = []\n",
    "    for ant in fol_ants.index:\n",
    "        operative_zones = Colony.choose_path()\n",
    "        chosen_path = \",\".join([str(int) for int in operative_zones])\n",
    "        existing_path = paths.query(\"path == '{}'\".format(chosen_path)) \n",
    "        \n",
    "        ## Check if chosen path was already calculated:\n",
    "        if existing_path.values.size != 0:\n",
    "            l.append(existing_path)\n",
    "        else:\n",
    "            operation = PSystem.get_operation(operative_zones=operative_zones)\n",
    "            solution = pd.DataFrame([Colony.seek_food(ant=ant, operation=operation, PowerSystem=PSystem)]).set_index('ant')\n",
    "            l.append(solution)\n",
    "    \n",
    "    for ant in rnd_ants.index:\n",
    "        operation = PSystem.sample_operation()\n",
    "        solution = pd.DataFrame([Colony.seek_food(ant=ant, operation=operation, PowerSystem=PSystem)]).set_index('ant')\n",
    "        l.append(solution)\n",
    "\n",
    "    new_paths = pd.concat(l).sort_index()\n",
    "    Colony.paths.update({i+1: new_paths})\n",
    "    \n",
    "    \n",
    "    # Updating Pheromone\n",
    "    new_pheromone = Colony.update_pheromone(paths=new_paths)\n",
    "    Colony.pheromone_history.update({i+1: new_pheromone})\n",
    "    \n",
    "    print(\"Iteracao: {} - MinValue: {}\".format(i+1, paths.distance.min()))"
   ]
  },
  {
   "cell_type": "code",
   "execution_count": 4,
   "id": "cd9d4596-008f-47bc-ab25-239452ddb2d2",
   "metadata": {},
   "outputs": [
    {
     "data": {
      "text/html": [
       "<div>\n",
       "<style scoped>\n",
       "    .dataframe tbody tr th:only-of-type {\n",
       "        vertical-align: middle;\n",
       "    }\n",
       "\n",
       "    .dataframe tbody tr th {\n",
       "        vertical-align: top;\n",
       "    }\n",
       "\n",
       "    .dataframe thead th {\n",
       "        text-align: right;\n",
       "    }\n",
       "</style>\n",
       "<table border=\"1\" class=\"dataframe\">\n",
       "  <thead>\n",
       "    <tr style=\"text-align: right;\">\n",
       "      <th></th>\n",
       "      <th>1</th>\n",
       "      <th>2</th>\n",
       "      <th>3</th>\n",
       "      <th>4</th>\n",
       "      <th>5</th>\n",
       "      <th>6</th>\n",
       "      <th>7</th>\n",
       "      <th>8</th>\n",
       "      <th>9</th>\n",
       "      <th>10</th>\n",
       "      <th>11</th>\n",
       "      <th>12</th>\n",
       "      <th>13</th>\n",
       "      <th>14</th>\n",
       "      <th>15</th>\n",
       "    </tr>\n",
       "    <tr>\n",
       "      <th>opz</th>\n",
       "      <th></th>\n",
       "      <th></th>\n",
       "      <th></th>\n",
       "      <th></th>\n",
       "      <th></th>\n",
       "      <th></th>\n",
       "      <th></th>\n",
       "      <th></th>\n",
       "      <th></th>\n",
       "      <th></th>\n",
       "      <th></th>\n",
       "      <th></th>\n",
       "      <th></th>\n",
       "      <th></th>\n",
       "      <th></th>\n",
       "    </tr>\n",
       "  </thead>\n",
       "  <tbody>\n",
       "    <tr>\n",
       "      <th>1</th>\n",
       "      <td>0.248129</td>\n",
       "      <td>0.001673</td>\n",
       "      <td>0.248129</td>\n",
       "      <td>0.248129</td>\n",
       "      <td>0.032641</td>\n",
       "      <td>0.207545</td>\n",
       "      <td>0.248129</td>\n",
       "      <td>0.248129</td>\n",
       "      <td>0.248129</td>\n",
       "      <td>0.248129</td>\n",
       "      <td>0.248129</td>\n",
       "      <td>0.001263</td>\n",
       "      <td>0.248129</td>\n",
       "      <td>0.248129</td>\n",
       "      <td>0.248129</td>\n",
       "    </tr>\n",
       "    <tr>\n",
       "      <th>2</th>\n",
       "      <td>0.000000</td>\n",
       "      <td>0.009239</td>\n",
       "      <td>0.000000</td>\n",
       "      <td>0.000000</td>\n",
       "      <td>0.073363</td>\n",
       "      <td>0.019755</td>\n",
       "      <td>0.000000</td>\n",
       "      <td>0.000000</td>\n",
       "      <td>0.000000</td>\n",
       "      <td>0.000000</td>\n",
       "      <td>0.000000</td>\n",
       "      <td>0.160111</td>\n",
       "      <td>0.000000</td>\n",
       "      <td>0.000000</td>\n",
       "      <td>0.000000</td>\n",
       "    </tr>\n",
       "    <tr>\n",
       "      <th>3</th>\n",
       "      <td>0.000000</td>\n",
       "      <td>0.220493</td>\n",
       "      <td>0.000000</td>\n",
       "      <td>0.000000</td>\n",
       "      <td>0.140394</td>\n",
       "      <td>0.000896</td>\n",
       "      <td>0.000000</td>\n",
       "      <td>0.000000</td>\n",
       "      <td>0.000000</td>\n",
       "      <td>0.000000</td>\n",
       "      <td>0.000000</td>\n",
       "      <td>0.086755</td>\n",
       "      <td>0.000000</td>\n",
       "      <td>0.000000</td>\n",
       "      <td>0.000000</td>\n",
       "    </tr>\n",
       "    <tr>\n",
       "      <th>4</th>\n",
       "      <td>0.000000</td>\n",
       "      <td>0.016723</td>\n",
       "      <td>0.000000</td>\n",
       "      <td>0.000000</td>\n",
       "      <td>0.001730</td>\n",
       "      <td>0.019932</td>\n",
       "      <td>0.000000</td>\n",
       "      <td>0.000000</td>\n",
       "      <td>0.000000</td>\n",
       "      <td>0.000000</td>\n",
       "      <td>0.000000</td>\n",
       "      <td>0.000000</td>\n",
       "      <td>0.000000</td>\n",
       "      <td>0.000000</td>\n",
       "      <td>0.000000</td>\n",
       "    </tr>\n",
       "  </tbody>\n",
       "</table>\n",
       "</div>"
      ],
      "text/plain": [
       "           1         2         3         4         5         6         7   \\\n",
       "opz                                                                         \n",
       "1    0.248129  0.001673  0.248129  0.248129  0.032641  0.207545  0.248129   \n",
       "2    0.000000  0.009239  0.000000  0.000000  0.073363  0.019755  0.000000   \n",
       "3    0.000000  0.220493  0.000000  0.000000  0.140394  0.000896  0.000000   \n",
       "4    0.000000  0.016723  0.000000  0.000000  0.001730  0.019932  0.000000   \n",
       "\n",
       "           8         9         10        11        12        13        14  \\\n",
       "opz                                                                         \n",
       "1    0.248129  0.248129  0.248129  0.248129  0.001263  0.248129  0.248129   \n",
       "2    0.000000  0.000000  0.000000  0.000000  0.160111  0.000000  0.000000   \n",
       "3    0.000000  0.000000  0.000000  0.000000  0.086755  0.000000  0.000000   \n",
       "4    0.000000  0.000000  0.000000  0.000000  0.000000  0.000000  0.000000   \n",
       "\n",
       "           15  \n",
       "opz            \n",
       "1    0.248129  \n",
       "2    0.000000  \n",
       "3    0.000000  \n",
       "4    0.000000  "
      ]
     },
     "execution_count": 4,
     "metadata": {},
     "output_type": "execute_result"
    }
   ],
   "source": [
    "operation"
   ]
  },
  {
   "cell_type": "code",
   "execution_count": 20,
   "id": "c6d888d5-e34b-418a-87ff-c3eb868b1996",
   "metadata": {},
   "outputs": [
    {
     "data": {
      "text/plain": [
       "{'status': 'optimal',\n",
       " 'Ft': 32702.108929564645,\n",
       " 'operation':      opz       a      b         c Pmin Pmax          Pg           Fi\n",
       " tgu                                                                 \n",
       " 1      1  671.03  10.07  0.000299  150  455  454.999922  4643.749964\n",
       " 2      2  574.54  10.22  0.000183  225  305  304.999927     3134.123\n",
       " 3      1  374.59    8.8  0.001126   20  130  129.999959  1163.030152\n",
       " 4      1  374.59    8.8  0.001126   20  130  129.999959  1163.030152\n",
       " 5      2  461.37   10.4  0.000205  200  260  259.999919  2717.857352\n",
       " 6      3  630.14   10.1  0.000301  395  430  429.999920  4398.654374\n",
       " 7      1   548.2   9.87  0.000364  135  465  464.999927  4668.255522\n",
       " 8      1  227.09   11.5  0.000338   60  300   60.005308   691.278395\n",
       " 9      1  173.72  11.21  0.000807   25  162  109.764614  1240.185081\n",
       " 10     1  175.95  10.72  0.001203   20  160  159.999813  1745.995923\n",
       " 11     1  186.86  11.21  0.003586   20   80   25.230441   285.119591\n",
       " 12     2  230.27    9.9  0.005513   55   65   64.999841   666.796249\n",
       " 13     1  225.28  13.12  0.000371   25   85   25.000060   328.233034\n",
       " 14     1  309.03  12.12  0.001929   15   55   15.000268   182.239215\n",
       " 15     1  323.79  12.41  0.004447   15   55   15.000123   187.156568}"
      ]
     },
     "execution_count": 20,
     "metadata": {},
     "output_type": "execute_result"
    }
   ],
   "source": [
    "optimal = [1,3,1,1,3,4,1,1,1,1,1,2,1,1,1]\n",
    "test = [1,2,1,1,2,3,1,1,1,1,1,2,1,1,1]\n",
    "\n",
    "operation = PSystem.get_operation(operative_zones=test)\n",
    "\n",
    "PSystem.solve(operation=operation)\n",
    "\n",
    "# pd.DataFrame([Colony.seek_food(ant=1, operation=operation, PowerSystem=PSystem)]).set_index('ant')"
   ]
  },
  {
   "cell_type": "code",
   "execution_count": 12,
   "id": "7ddac82c-872b-4e18-988a-2032ac6481c6",
   "metadata": {},
   "outputs": [
    {
     "data": {
      "text/html": [
       "<div>\n",
       "<style scoped>\n",
       "    .dataframe tbody tr th:only-of-type {\n",
       "        vertical-align: middle;\n",
       "    }\n",
       "\n",
       "    .dataframe tbody tr th {\n",
       "        vertical-align: top;\n",
       "    }\n",
       "\n",
       "    .dataframe thead th {\n",
       "        text-align: right;\n",
       "    }\n",
       "</style>\n",
       "<table border=\"1\" class=\"dataframe\">\n",
       "  <thead>\n",
       "    <tr style=\"text-align: right;\">\n",
       "      <th></th>\n",
       "      <th>path</th>\n",
       "      <th>status</th>\n",
       "      <th>distance</th>\n",
       "      <th>tau</th>\n",
       "    </tr>\n",
       "    <tr>\n",
       "      <th>ant</th>\n",
       "      <th></th>\n",
       "      <th></th>\n",
       "      <th></th>\n",
       "      <th></th>\n",
       "    </tr>\n",
       "  </thead>\n",
       "  <tbody>\n",
       "    <tr>\n",
       "      <th>1</th>\n",
       "      <td>1,2,1,1,4,2,1,1,1,1,1,1,1,1,1</td>\n",
       "      <td>optimal</td>\n",
       "      <td>32640.082022</td>\n",
       "      <td>0.000031</td>\n",
       "    </tr>\n",
       "    <tr>\n",
       "      <th>2</th>\n",
       "      <td>1,3,1,1,2,3,1,1,1,1,1,1,1,1,1</td>\n",
       "      <td>optimal</td>\n",
       "      <td>32621.473431</td>\n",
       "      <td>0.000031</td>\n",
       "    </tr>\n",
       "    <tr>\n",
       "      <th>3</th>\n",
       "      <td>1,1,1,1,1,4,1,1,1,1,1,2,1,1,1</td>\n",
       "      <td>optimal</td>\n",
       "      <td>32894.216281</td>\n",
       "      <td>0.000030</td>\n",
       "    </tr>\n",
       "    <tr>\n",
       "      <th>4</th>\n",
       "      <td>1,4,1,1,4,1,1,1,1,1,1,2,1,1,1</td>\n",
       "      <td>optimal</td>\n",
       "      <td>32621.266691</td>\n",
       "      <td>0.000031</td>\n",
       "    </tr>\n",
       "    <tr>\n",
       "      <th>5</th>\n",
       "      <td>1,2,1,1,2,2,1,1,1,1,1,2,1,1,1</td>\n",
       "      <td>optimal</td>\n",
       "      <td>32773.076734</td>\n",
       "      <td>0.000031</td>\n",
       "    </tr>\n",
       "  </tbody>\n",
       "</table>\n",
       "</div>"
      ],
      "text/plain": [
       "                              path   status      distance       tau\n",
       "ant                                                                \n",
       "1    1,2,1,1,4,2,1,1,1,1,1,1,1,1,1  optimal  32640.082022  0.000031\n",
       "2    1,3,1,1,2,3,1,1,1,1,1,1,1,1,1  optimal  32621.473431  0.000031\n",
       "3    1,1,1,1,1,4,1,1,1,1,1,2,1,1,1  optimal  32894.216281  0.000030\n",
       "4    1,4,1,1,4,1,1,1,1,1,1,2,1,1,1  optimal  32621.266691  0.000031\n",
       "5    1,2,1,1,2,2,1,1,1,1,1,2,1,1,1  optimal  32773.076734  0.000031"
      ]
     },
     "execution_count": 12,
     "metadata": {},
     "output_type": "execute_result"
    }
   ],
   "source": [
    "[[1 2 1 1 2 3 1 1 1 1 1 2 1 1 1], [1 3 1 1 3 1 1 1 1 1 1 3 1 1 1], [1 2 1 1 2 1 1 1 1 1 1 2 1 1 1], [1 4 1 1 3 3 1 1 1 1 1 2 1 1 1], [1 3 1 1 1 2 1 1 1 1 1 3 1 1 1]]"
   ]
  },
  {
   "cell_type": "code",
   "execution_count": null,
   "id": "e795f271-cb6f-495c-9495-ea78fd8ce39f",
   "metadata": {},
   "outputs": [],
   "source": [
    ".size == 0"
   ]
  },
  {
   "cell_type": "code",
   "execution_count": 50,
   "id": "233df69a-6cf7-432f-b537-8b8ce8663a69",
   "metadata": {},
   "outputs": [
    {
     "data": {
      "text/plain": [
       "True"
      ]
     },
     "execution_count": 50,
     "metadata": {},
     "output_type": "execute_result"
    }
   ],
   "source": [
    "paths.query(\"path == '{}'\".format(chosen_path)).values.size == 0"
   ]
  },
  {
   "cell_type": "code",
   "execution_count": 47,
   "id": "05753ddf-f09b-47cc-b0ff-aa1df070eb83",
   "metadata": {},
   "outputs": [
    {
     "data": {
      "text/plain": [
       "{0:                               path   status      distance       tau\n",
       " ant                                                                \n",
       " 1    1,2,1,1,2,4,1,1,1,1,1,2,1,1,1  optimal  32672.124337  0.000031\n",
       " 2    1,1,1,1,4,4,1,1,1,1,1,3,1,1,1  optimal  32635.669146  0.000031\n",
       " 3    1,3,1,1,4,2,1,1,1,1,1,1,1,1,1  optimal  32575.017052  0.000031\n",
       " 4    1,4,1,1,2,4,1,1,1,1,1,2,1,1,1  optimal  32558.357929  0.000031\n",
       " 5    1,3,1,1,1,3,1,1,1,1,1,1,1,1,1  optimal  32688.619792  0.000031}"
      ]
     },
     "execution_count": 47,
     "metadata": {},
     "output_type": "execute_result"
    }
   ],
   "source": [
    "Colony.paths"
   ]
  },
  {
   "cell_type": "code",
   "execution_count": 209,
   "id": "8766f40a-5965-4e98-b3bb-0c49de26fd6d",
   "metadata": {},
   "outputs": [
    {
     "data": {
      "text/plain": [
       "[1, 4, 1, 1, 2, 1, 1, 1, 1, 1, 1, 2, 1, 1, 1]"
      ]
     },
     "execution_count": 209,
     "metadata": {},
     "output_type": "execute_result"
    }
   ],
   "source": [
    "[Colony.pheromone.sample(n=1, weights=Colony.pheromone[tgu], axis=0).index[0] for tgu in Colony.pheromone.columns]"
   ]
  },
  {
   "cell_type": "code",
   "execution_count": 163,
   "id": "d983af1c-b33b-4b92-8bd0-dafc192ee43f",
   "metadata": {},
   "outputs": [
    {
     "data": {
      "text/plain": [
       "[1, 4, 1, 1, 2, 1, 1, 1, 1, 1, 1, 2, 1, 1, 1]"
      ]
     },
     "execution_count": 163,
     "metadata": {},
     "output_type": "execute_result"
    }
   ],
   "source": []
  },
  {
   "cell_type": "code",
   "execution_count": 161,
   "id": "4785fd95-0981-47bf-bb0f-70877c2d83ff",
   "metadata": {},
   "outputs": [
    {
     "data": {
      "text/plain": [
       "4"
      ]
     },
     "execution_count": 161,
     "metadata": {},
     "output_type": "execute_result"
    }
   ],
   "source": [
    "Colony.pheromone.sample(n=1, weights=Colony.pheromone[2], axis=0).index[0]"
   ]
  },
  {
   "cell_type": "code",
   "execution_count": 165,
   "id": "cd11e7a5-f3d8-41e9-aa67-6bb7e75552b3",
   "metadata": {},
   "outputs": [
    {
     "data": {
      "text/html": [
       "<div>\n",
       "<style scoped>\n",
       "    .dataframe tbody tr th:only-of-type {\n",
       "        vertical-align: middle;\n",
       "    }\n",
       "\n",
       "    .dataframe tbody tr th {\n",
       "        vertical-align: top;\n",
       "    }\n",
       "\n",
       "    .dataframe thead th {\n",
       "        text-align: right;\n",
       "    }\n",
       "</style>\n",
       "<table border=\"1\" class=\"dataframe\">\n",
       "  <thead>\n",
       "    <tr style=\"text-align: right;\">\n",
       "      <th></th>\n",
       "      <th>1</th>\n",
       "      <th>2</th>\n",
       "      <th>3</th>\n",
       "      <th>4</th>\n",
       "      <th>5</th>\n",
       "      <th>6</th>\n",
       "      <th>7</th>\n",
       "      <th>8</th>\n",
       "      <th>9</th>\n",
       "      <th>10</th>\n",
       "      <th>11</th>\n",
       "      <th>12</th>\n",
       "      <th>13</th>\n",
       "      <th>14</th>\n",
       "      <th>15</th>\n",
       "    </tr>\n",
       "    <tr>\n",
       "      <th>opz</th>\n",
       "      <th></th>\n",
       "      <th></th>\n",
       "      <th></th>\n",
       "      <th></th>\n",
       "      <th></th>\n",
       "      <th></th>\n",
       "      <th></th>\n",
       "      <th></th>\n",
       "      <th></th>\n",
       "      <th></th>\n",
       "      <th></th>\n",
       "      <th></th>\n",
       "      <th></th>\n",
       "      <th></th>\n",
       "      <th></th>\n",
       "    </tr>\n",
       "  </thead>\n",
       "  <tbody>\n",
       "    <tr>\n",
       "      <th>1</th>\n",
       "      <td>0.3066</td>\n",
       "      <td>0.0000</td>\n",
       "      <td>0.3066</td>\n",
       "      <td>0.3066</td>\n",
       "      <td>0.0000</td>\n",
       "      <td>0.0612</td>\n",
       "      <td>0.3066</td>\n",
       "      <td>0.3066</td>\n",
       "      <td>0.3066</td>\n",
       "      <td>0.3066</td>\n",
       "      <td>0.3066</td>\n",
       "      <td>0.0612</td>\n",
       "      <td>0.3066</td>\n",
       "      <td>0.3066</td>\n",
       "      <td>0.3066</td>\n",
       "    </tr>\n",
       "    <tr>\n",
       "      <th>2</th>\n",
       "      <td>0.0000</td>\n",
       "      <td>0.0000</td>\n",
       "      <td>0.0000</td>\n",
       "      <td>0.0000</td>\n",
       "      <td>0.1840</td>\n",
       "      <td>0.0612</td>\n",
       "      <td>0.0000</td>\n",
       "      <td>0.0000</td>\n",
       "      <td>0.0000</td>\n",
       "      <td>0.0000</td>\n",
       "      <td>0.0000</td>\n",
       "      <td>0.1226</td>\n",
       "      <td>0.0000</td>\n",
       "      <td>0.0000</td>\n",
       "      <td>0.0000</td>\n",
       "    </tr>\n",
       "    <tr>\n",
       "      <th>3</th>\n",
       "      <td>0.0000</td>\n",
       "      <td>0.1226</td>\n",
       "      <td>0.0000</td>\n",
       "      <td>0.0000</td>\n",
       "      <td>0.1226</td>\n",
       "      <td>0.1842</td>\n",
       "      <td>0.0000</td>\n",
       "      <td>0.0000</td>\n",
       "      <td>0.0000</td>\n",
       "      <td>0.0000</td>\n",
       "      <td>0.0000</td>\n",
       "      <td>0.1228</td>\n",
       "      <td>0.0000</td>\n",
       "      <td>0.0000</td>\n",
       "      <td>0.0000</td>\n",
       "    </tr>\n",
       "    <tr>\n",
       "      <th>4</th>\n",
       "      <td>0.0000</td>\n",
       "      <td>0.1840</td>\n",
       "      <td>0.0000</td>\n",
       "      <td>0.0000</td>\n",
       "      <td>0.0000</td>\n",
       "      <td>0.0000</td>\n",
       "      <td>0.0000</td>\n",
       "      <td>0.0000</td>\n",
       "      <td>0.0000</td>\n",
       "      <td>0.0000</td>\n",
       "      <td>0.0000</td>\n",
       "      <td>0.0000</td>\n",
       "      <td>0.0000</td>\n",
       "      <td>0.0000</td>\n",
       "      <td>0.0000</td>\n",
       "    </tr>\n",
       "  </tbody>\n",
       "</table>\n",
       "</div>"
      ],
      "text/plain": [
       "         1       2       3       4       5       6       7       8       9   \\\n",
       "opz                                                                           \n",
       "1    0.3066  0.0000  0.3066  0.3066  0.0000  0.0612  0.3066  0.3066  0.3066   \n",
       "2    0.0000  0.0000  0.0000  0.0000  0.1840  0.0612  0.0000  0.0000  0.0000   \n",
       "3    0.0000  0.1226  0.0000  0.0000  0.1226  0.1842  0.0000  0.0000  0.0000   \n",
       "4    0.0000  0.1840  0.0000  0.0000  0.0000  0.0000  0.0000  0.0000  0.0000   \n",
       "\n",
       "         10      11      12      13      14      15  \n",
       "opz                                                  \n",
       "1    0.3066  0.3066  0.0612  0.3066  0.3066  0.3066  \n",
       "2    0.0000  0.0000  0.1226  0.0000  0.0000  0.0000  \n",
       "3    0.0000  0.0000  0.1228  0.0000  0.0000  0.0000  \n",
       "4    0.0000  0.0000  0.0000  0.0000  0.0000  0.0000  "
      ]
     },
     "execution_count": 165,
     "metadata": {},
     "output_type": "execute_result"
    }
   ],
   "source": [
    "Colony.pheromone"
   ]
  },
  {
   "cell_type": "code",
   "execution_count": 66,
   "id": "924e05fc-9234-4f82-9276-20af94422d76",
   "metadata": {},
   "outputs": [
    {
     "data": {
      "text/plain": [
       "[1]"
      ]
     },
     "execution_count": 66,
     "metadata": {},
     "output_type": "execute_result"
    }
   ],
   "source": [
    "import random\n",
    "\n",
    "\n",
    "random.choices(population=Colony.pheromone[1], weights=[Colony.pheromone[1][i+1]/Colony.pheromone[1].sum() for i,n in enumerate(Colony.pheromone[1])],k=1)"
   ]
  },
  {
   "cell_type": "code",
   "execution_count": 75,
   "id": "22b6bbf7-e75c-4c14-bd43-44ce58d32ec4",
   "metadata": {},
   "outputs": [
    {
     "data": {
      "text/plain": [
       "[1.0, 0.0, 0.0, 0.0]"
      ]
     },
     "execution_count": 75,
     "metadata": {},
     "output_type": "execute_result"
    }
   ],
   "source": [
    "[Colony.pheromone[1][i+1]/Colony.pheromone[1].sum() for i,n in enumerate(Colony.pheromone[1])]"
   ]
  },
  {
   "cell_type": "code",
   "execution_count": 69,
   "id": "cd731291-dc4a-4572-8817-efe60f073b6b",
   "metadata": {},
   "outputs": [
    {
     "data": {
      "text/plain": [
       "0.3066"
      ]
     },
     "execution_count": 69,
     "metadata": {},
     "output_type": "execute_result"
    }
   ],
   "source": [
    "Colony.pheromone[1].sum()"
   ]
  },
  {
   "cell_type": "code",
   "execution_count": null,
   "id": "6344858e-5717-4d58-ac47-0c85e05ad3c1",
   "metadata": {},
   "outputs": [],
   "source": []
  }
 ],
 "metadata": {
  "kernelspec": {
   "display_name": "Python 3",
   "language": "python",
   "name": "python3"
  },
  "language_info": {
   "codemirror_mode": {
    "name": "ipython",
    "version": 3
   },
   "file_extension": ".py",
   "mimetype": "text/x-python",
   "name": "python",
   "nbconvert_exporter": "python",
   "pygments_lexer": "ipython3",
   "version": "3.8.6"
  }
 },
 "nbformat": 4,
 "nbformat_minor": 5
}

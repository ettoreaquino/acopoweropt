{
 "cells": [
  {
   "cell_type": "markdown",
   "id": "809aa09a-82df-4665-b913-5fdfb0d554fc",
   "metadata": {},
   "source": [
    "<center><h1>Testing Notebook</h1></center>\n"
   ]
  },
  {
   "cell_type": "markdown",
   "id": "9f03f895-8a30-4cf0-8690-9aaf27da036c",
   "metadata": {},
   "source": [
    "## Loading Entities:\n",
    "\n",
    " - Power System\n",
    " - Ant Colony"
   ]
  },
  {
   "cell_type": "code",
   "execution_count": null,
   "id": "92ca0b5b-c822-4d91-911e-d32957d9e4ac",
   "metadata": {},
   "outputs": [],
   "source": [
    "from acopoweropt import system, colony\n",
    "\n",
    "PSystem = system.PowerSystem(name='s15')\n",
    "Colony = colony.Colony(n_ants=5,phr_evp_rate=0.25)"
   ]
  },
  {
   "cell_type": "markdown",
   "id": "5d0bb8b5-8234-4c3f-a779-bb7b390f333b",
   "metadata": {},
   "source": [
    "## Testing Power System"
   ]
  },
  {
   "cell_type": "code",
   "execution_count": null,
   "id": "5bbfbd60-bdc8-4dbb-a647-ae18b95f9e3b",
   "metadata": {},
   "outputs": [],
   "source": [
    "# Randomly select an operation\n",
    "operation = PSystem.sample_operation()\n",
    "\n",
    "# Solve system\n",
    "solution = PSystem.solve(operation=operation)"
   ]
  },
  {
   "cell_type": "code",
   "execution_count": null,
   "id": "2df2db4b-01ea-4404-aebe-b932097d7a3f",
   "metadata": {},
   "outputs": [],
   "source": [
    "solution.get('Ft')"
   ]
  },
  {
   "cell_type": "markdown",
   "id": "f922f0e9-54e3-472d-9871-55fe07ada350",
   "metadata": {},
   "source": [
    "## Testing Colony"
   ]
  },
  {
   "cell_type": "code",
   "execution_count": null,
   "id": "4804ecb9-38ec-4abc-a1c2-7b0d42f0df48",
   "metadata": {},
   "outputs": [],
   "source": [
    "import pandas as pd\n",
    "import random\n",
    "\n",
    "\n",
    "# df = pd.DataFrame([(\n",
    "#     ant,\n",
    "#     *[random.randint(1,j) for i,j in PSystem.opzs.itertuples()]\n",
    "#     ) for ant in range(1, Colony.n_ants + 1)\n",
    "# ]).rename(columns = {0: 'ant'}, inplace = False).set_index('ant')"
   ]
  }
 ],
 "metadata": {
  "kernelspec": {
   "display_name": "Python 3",
   "language": "python",
   "name": "python3"
  },
  "language_info": {
   "codemirror_mode": {
    "name": "ipython",
    "version": 3
   },
   "file_extension": ".py",
   "mimetype": "text/x-python",
   "name": "python",
   "nbconvert_exporter": "python",
   "pygments_lexer": "ipython3",
   "version": "3.8.6"
  }
 },
 "nbformat": 4,
 "nbformat_minor": 5
}

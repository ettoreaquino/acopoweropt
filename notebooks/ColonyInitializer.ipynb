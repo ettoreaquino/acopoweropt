{
 "cells": [
  {
   "cell_type": "markdown",
   "id": "6c51b861-e44d-43d2-b685-c8770d816ecd",
   "metadata": {},
   "source": [
    "<center><h1>Colony Initializer</h1></center>\n",
    "\n",
    "Method to randomly initialize a colony with $n$ ants and objetive function values.\n",
    "\n",
    " > The food sources will be represented by the solution of the chosen Power System configuration"
   ]
  },
  {
   "cell_type": "code",
   "execution_count": null,
   "id": "f7cf10af-042c-44ef-aab6-2646b03b8586",
   "metadata": {},
   "outputs": [],
   "source": [
    "from acopoweropt import colony, system\n",
    "\n",
    "PSystem = system.PowerSystem(name='s10')\n",
    "\n",
    "Colony = colony.Colony(n_ants=5, phr_evp_rate=0.25, power_system_name='s10')\n",
    "Colony.initialize()\n",
    "\n",
    "print(Colony.initial_paths)"
   ]
  },
  {
   "cell_type": "code",
   "execution_count": null,
   "id": "dff146fe-6f4a-4681-bc49-ad66a70c4ba7",
   "metadata": {},
   "outputs": [],
   "source": [
    "n_ants = 5\n",
    "\n",
    "def initialize(n_ants: int):\n",
    "    \"\"\"Initialize colony\n",
    "    \n",
    "    Initializes colony by seting the ants towards random paths. Although not ideal\n",
    "    each random path will make use of PowerSystem.sample_operation() and the path\n",
    "    distance will be calculated using PowerSystem.solve(operation).\n",
    "    \n",
    "    Later improvements should aim to decouple the PowerSystem from within the colony\n",
    "    initialization method.\n",
    "    \n",
    "    \"\"\"\n",
    "    \n",
    "    l = []\n",
    "    for ant in range(1, n_ants + 1):\n",
    "        option = PSystem.sample_operation()\n",
    "        result = PSystem.solve(operation=option)\n",
    "        distance = trail_result.get('Ft')\n",
    "        status = trail_result.get('status')\n",
    "\n",
    "        l.append({'ant': ant, \n",
    "                  'path': option.opz.to_list(), \n",
    "                  'status': status,\n",
    "                  'distance':distance,\n",
    "                  'tau': 1/distance})\n",
    "        \n",
    "    return pd.DataFrame(l).set_index('ant') "
   ]
  }
 ],
 "metadata": {
  "kernelspec": {
   "display_name": "Python 3",
   "language": "python",
   "name": "python3"
  },
  "language_info": {
   "codemirror_mode": {
    "name": "ipython",
    "version": 3
   },
   "file_extension": ".py",
   "mimetype": "text/x-python",
   "name": "python",
   "nbconvert_exporter": "python",
   "pygments_lexer": "ipython3",
   "version": "3.8.6"
  }
 },
 "nbformat": 4,
 "nbformat_minor": 5
}

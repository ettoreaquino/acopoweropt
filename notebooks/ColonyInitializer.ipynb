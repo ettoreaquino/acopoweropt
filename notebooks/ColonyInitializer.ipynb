{
 "cells": [
  {
   "cell_type": "markdown",
   "id": "6c51b861-e44d-43d2-b685-c8770d816ecd",
   "metadata": {},
   "source": [
    "<center><h1>Colony Initializer</h1></center>\n",
    "\n",
    "Method to randomly initialize a colony with $n$ ants and objetive function values.\n",
    "\n",
    " > The food sources will be represented by the solution of the chosen Power System configuration"
   ]
  },
  {
   "cell_type": "code",
   "execution_count": 4,
   "id": "f7cf10af-042c-44ef-aab6-2646b03b8586",
   "metadata": {},
   "outputs": [
    {
     "name": "stdout",
     "output_type": "stream",
     "text": [
      "                    path   status       distance            tau\n",
      "ant                                                            \n",
      "1    1,3,3,2,2,3,3,1,2,1  optimal   7.267917e+02   1.375910e-03\n",
      "2    1,3,3,3,2,3,2,3,2,3  unknown  8.654707e+124  1.155441e-125\n",
      "3    2,3,2,1,2,1,1,3,2,3  optimal   7.253636e+02   1.378619e-03\n",
      "4    1,2,2,1,2,2,3,1,3,2  optimal   7.387575e+02   1.353624e-03\n",
      "5    1,3,3,2,1,3,3,1,3,2  optimal   7.379522e+02   1.355101e-03\n"
     ]
    }
   ],
   "source": [
    "from acopoweropt import colony, system\n",
    "\n",
    "PSystem = system.PowerSystem(name='s10')\n",
    "\n",
    "Colony = colony.Colony(n_ants=5, phr_evp_rate=0.25, power_system_name='s10')\n",
    "Colony.initialize()\n",
    "\n",
    "print(Colony.initial_paths)"
   ]
  },
  {
   "cell_type": "code",
   "execution_count": 9,
   "id": "1d4826fe-1eec-4acb-b038-874b4dc81272",
   "metadata": {},
   "outputs": [],
   "source": [
    "Colony.initialize()"
   ]
  },
  {
   "cell_type": "code",
   "execution_count": 10,
   "id": "9a236eee-7c1f-4a4a-95dd-042cde0acd52",
   "metadata": {},
   "outputs": [
    {
     "data": {
      "text/html": [
       "<div>\n",
       "<style scoped>\n",
       "    .dataframe tbody tr th:only-of-type {\n",
       "        vertical-align: middle;\n",
       "    }\n",
       "\n",
       "    .dataframe tbody tr th {\n",
       "        vertical-align: top;\n",
       "    }\n",
       "\n",
       "    .dataframe thead th {\n",
       "        text-align: right;\n",
       "    }\n",
       "</style>\n",
       "<table border=\"1\" class=\"dataframe\">\n",
       "  <thead>\n",
       "    <tr style=\"text-align: right;\">\n",
       "      <th></th>\n",
       "      <th>path</th>\n",
       "      <th>status</th>\n",
       "      <th>distance</th>\n",
       "      <th>tau</th>\n",
       "    </tr>\n",
       "    <tr>\n",
       "      <th>ant</th>\n",
       "      <th></th>\n",
       "      <th></th>\n",
       "      <th></th>\n",
       "      <th></th>\n",
       "    </tr>\n",
       "  </thead>\n",
       "  <tbody>\n",
       "    <tr>\n",
       "      <th>1</th>\n",
       "      <td>1,1,2,1,1,1,1,1,2,2,2,1,2,3,1,2,1,3,3,1,3,1,2,...</td>\n",
       "      <td>optimal</td>\n",
       "      <td>1.076013e+05</td>\n",
       "      <td>9.293572e-06</td>\n",
       "    </tr>\n",
       "    <tr>\n",
       "      <th>2</th>\n",
       "      <td>1,1,1,1,1,1,1,1,2,2,1,2,3,3,1,2,4,2,1,2,1,3,2,...</td>\n",
       "      <td>optimal</td>\n",
       "      <td>1.087401e+05</td>\n",
       "      <td>9.196239e-06</td>\n",
       "    </tr>\n",
       "    <tr>\n",
       "      <th>3</th>\n",
       "      <td>1,2,1,1,1,1,3,1,1,2,2,1,3,4,1,3,4,3,2,3,2,2,2,...</td>\n",
       "      <td>unknown</td>\n",
       "      <td>2.017451e+100</td>\n",
       "      <td>4.956749e-101</td>\n",
       "    </tr>\n",
       "    <tr>\n",
       "      <th>4</th>\n",
       "      <td>1,2,2,1,1,1,2,1,2,1,2,2,1,4,3,3,1,1,2,1,3,1,1,...</td>\n",
       "      <td>optimal</td>\n",
       "      <td>1.214689e+05</td>\n",
       "      <td>8.232562e-06</td>\n",
       "    </tr>\n",
       "    <tr>\n",
       "      <th>5</th>\n",
       "      <td>1,2,2,1,1,1,2,1,2,1,2,2,2,4,2,1,3,2,3,3,1,1,3,...</td>\n",
       "      <td>optimal</td>\n",
       "      <td>1.097660e+05</td>\n",
       "      <td>9.110285e-06</td>\n",
       "    </tr>\n",
       "  </tbody>\n",
       "</table>\n",
       "</div>"
      ],
      "text/plain": [
       "                                                  path   status  \\\n",
       "ant                                                               \n",
       "1    1,1,2,1,1,1,1,1,2,2,2,1,2,3,1,2,1,3,3,1,3,1,2,...  optimal   \n",
       "2    1,1,1,1,1,1,1,1,2,2,1,2,3,3,1,2,4,2,1,2,1,3,2,...  optimal   \n",
       "3    1,2,1,1,1,1,3,1,1,2,2,1,3,4,1,3,4,3,2,3,2,2,2,...  unknown   \n",
       "4    1,2,2,1,1,1,2,1,2,1,2,2,1,4,3,3,1,1,2,1,3,1,1,...  optimal   \n",
       "5    1,2,2,1,1,1,2,1,2,1,2,2,2,4,2,1,3,2,3,3,1,1,3,...  optimal   \n",
       "\n",
       "          distance            tau  \n",
       "ant                                \n",
       "1     1.076013e+05   9.293572e-06  \n",
       "2     1.087401e+05   9.196239e-06  \n",
       "3    2.017451e+100  4.956749e-101  \n",
       "4     1.214689e+05   8.232562e-06  \n",
       "5     1.097660e+05   9.110285e-06  "
      ]
     },
     "execution_count": 10,
     "metadata": {},
     "output_type": "execute_result"
    }
   ],
   "source": [
    "df = Colony.initial_paths\n",
    "df"
   ]
  },
  {
   "cell_type": "code",
   "execution_count": 13,
   "id": "512fa0e2-15cc-46e6-b537-024b5fdeefdf",
   "metadata": {},
   "outputs": [
    {
     "data": {
      "text/plain": [
       "['1',\n",
       " '1',\n",
       " '2',\n",
       " '1',\n",
       " '1',\n",
       " '1',\n",
       " '1',\n",
       " '1',\n",
       " '2',\n",
       " '2',\n",
       " '2',\n",
       " '1',\n",
       " '2',\n",
       " '3',\n",
       " '1',\n",
       " '2',\n",
       " '1',\n",
       " '3',\n",
       " '3',\n",
       " '1',\n",
       " '3',\n",
       " '1',\n",
       " '2',\n",
       " '3',\n",
       " '3',\n",
       " '3',\n",
       " '1',\n",
       " '1',\n",
       " '2',\n",
       " '1',\n",
       " '1',\n",
       " '1',\n",
       " '1',\n",
       " '1',\n",
       " '1',\n",
       " '1',\n",
       " '1',\n",
       " '1',\n",
       " '1',\n",
       " '1']"
      ]
     },
     "execution_count": 13,
     "metadata": {},
     "output_type": "execute_result"
    }
   ],
   "source": [
    "df.path.unique().tolist()[0].split(',')"
   ]
  },
  {
   "cell_type": "code",
   "execution_count": null,
   "id": "dff146fe-6f4a-4681-bc49-ad66a70c4ba7",
   "metadata": {},
   "outputs": [],
   "source": [
    "n_ants = 5\n",
    "\n",
    "def initialize(n_ants: int):\n",
    "    \"\"\"Initialize colony\n",
    "    \n",
    "    Initializes colony by seting the ants towards random paths. Although not ideal\n",
    "    each random path will make use of PowerSystem.sample_operation() and the path\n",
    "    distance will be calculated using PowerSystem.solve(operation).\n",
    "    \n",
    "    Later improvements should aim to decouple the PowerSystem from within the colony\n",
    "    initialization method.\n",
    "    \n",
    "    \"\"\"\n",
    "    \n",
    "    l = []\n",
    "    for ant in range(1, n_ants + 1):\n",
    "        option = PSystem.sample_operation()\n",
    "        result = PSystem.solve(operation=option)\n",
    "        distance = trail_result.get('Ft')\n",
    "        status = trail_result.get('status')\n",
    "\n",
    "        l.append({'ant': ant, \n",
    "                  'path': option.opz.to_list(), \n",
    "                  'status': status,\n",
    "                  'distance':distance,\n",
    "                  'tau': 1/distance})\n",
    "        \n",
    "    return pd.DataFrame(l).set_index('ant') "
   ]
  },
  {
   "cell_type": "code",
   "execution_count": null,
   "id": "903caf76-deff-40a4-9276-1910a1b084cc",
   "metadata": {},
   "outputs": [],
   "source": [
    "ColonyInitializer.ipynb.initialize(n_ants=n_ants)"
   ]
  }
 ],
 "metadata": {
  "kernelspec": {
   "display_name": "Python 3",
   "language": "python",
   "name": "python3"
  },
  "language_info": {
   "codemirror_mode": {
    "name": "ipython",
    "version": 3
   },
   "file_extension": ".py",
   "mimetype": "text/x-python",
   "name": "python",
   "nbconvert_exporter": "python",
   "pygments_lexer": "ipython3",
   "version": "3.8.6"
  }
 },
 "nbformat": 4,
 "nbformat_minor": 5
}
